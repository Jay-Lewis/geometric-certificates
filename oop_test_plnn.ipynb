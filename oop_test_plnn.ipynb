{
 "cells": [
  {
   "cell_type": "code",
   "execution_count": 1,
   "metadata": {},
   "outputs": [
    {
     "name": "stderr",
     "output_type": "stream",
     "text": [
      "/Users/jordanm/.virtualenvs/myvenv/lib/python3.7/site-packages/matplotlib/figure.py:98: MatplotlibDeprecationWarning: \n",
      "Adding an axes using the same arguments as a previous axes currently reuses the earlier instance.  In a future version, a new instance will always be created and returned.  Meanwhile, this warning can be suppressed, and the future behavior ensured, by passing a unique label to each axes instance.\n",
      "  \"Adding an axes using the same arguments as a previous axes \"\n"
     ]
    }
   ],
   "source": [
    "# =====================\n",
    "# Imports\n",
    "# =====================\n",
    "%load_ext line_profiler\n",
    "\n",
    "from geocert import compute_boundary_batch, batch_GeoCert, incremental_GeoCert\n",
    "import geocert_oop as geo\n",
    "from plnn import PLNN\n",
    "import _polytope_ as _poly_\n",
    "from _polytope_ import Polytope, Face, from_polytope_dict\n",
    "import utilities as utils\n",
    "import os\n",
    "import matplotlib.pyplot as plt\n",
    "import numpy as np\n",
    "import torch\n",
    "import torch.nn as nn\n",
    "import torch.optim as optim\n",
    "from torch.autograd import Variable\n",
    "from torchvision import datasets, transforms\n",
    "# from convex_adversarial import robust_loss\n",
    "\n",
    "\n",
    "import sys\n",
    "sys.path.append('mister_ed')\n"
   ]
  },
  {
   "cell_type": "code",
   "execution_count": 2,
   "metadata": {},
   "outputs": [],
   "source": [
    "import mister_ed.adversarial_attacks as aa"
   ]
  },
  {
   "cell_type": "code",
   "execution_count": 3,
   "metadata": {},
   "outputs": [
    {
     "name": "stdout",
     "output_type": "stream",
     "text": [
      "===============Generating Training Points============\n",
      "===============Points Generated============\n"
     ]
    }
   ],
   "source": [
    "# apply incremental geocert to a normal and l1-regularized classifier. Finds maximal l_p balls\n",
    "# for random points in R^2.\n",
    "\n",
    "# ==================================\n",
    "# Generate Training Points\n",
    "# ==================================\n",
    "\n",
    "print('===============Generating Training Points============')\n",
    "# random points at least 2r apart\n",
    "m = 12\n",
    "np.random.seed(3)\n",
    "x = [np.random.uniform(size=(2))]\n",
    "r = 0.16\n",
    "while(len(x) < m):\n",
    "    p = np.random.uniform(size=(2))\n",
    "    if min(np.abs(p-a).sum() for a in x) > 2*r:\n",
    "        x.append(p)\n",
    "# r = 0.145\n",
    "epsilon = r/2\n",
    "\n",
    "X = torch.Tensor(np.array(x))\n",
    "torch.manual_seed(1)\n",
    "y = (torch.rand(m)+0.5).long()\n",
    "\n",
    "print('===============Points Generated============')"
   ]
  },
  {
   "cell_type": "code",
   "execution_count": 4,
   "metadata": {
    "scrolled": true
   },
   "outputs": [
    {
     "name": "stdout",
     "output_type": "stream",
     "text": [
      "===============Initializing Network============\n",
      "Sequential(\n",
      "  (1): Linear(in_features=2, out_features=10, bias=True)\n",
      "  (2): ReLU()\n",
      "  (3): Linear(in_features=10, out_features=50, bias=True)\n",
      "  (4): ReLU()\n",
      "  (5): Linear(in_features=50, out_features=10, bias=True)\n",
      "  (6): ReLU()\n",
      "  (7): Linear(in_features=10, out_features=2, bias=True)\n",
      ")\n",
      "===============Training Network with Regularization============\n",
      "error:  tensor(0.)\n"
     ]
    },
    {
     "name": "stderr",
     "output_type": "stream",
     "text": [
      "/Users/jordanm/.virtualenvs/myvenv/lib/python3.7/site-packages/torch/tensor.py:263: UserWarning: non-inplace resize is deprecated\n",
      "  warnings.warn(\"non-inplace resize is deprecated\")\n"
     ]
    },
    {
     "data": {
      "image/png": "[encoded data removed]",
      "text/plain": [
       "<Figure size 576x576 with 1 Axes>"
      ]
     },
     "metadata": {
      "needs_background": "light"
     },
     "output_type": "display_data"
    }
   ],
   "source": [
    "# ==================================\n",
    "# Initialize Network\n",
    "# ==================================\n",
    "\n",
    "print('===============Initializing Network============')\n",
    "network = PLNN([2, 10, 50, 10, 2])\n",
    "net = network.net\n",
    "\n",
    "\n",
    "# ==================================\n",
    "# Train Network\n",
    "# ==================================\n",
    "\n",
    "def l1_loss(net):\n",
    "\n",
    "    return sum([_.norm(p=1) for _ in net.parameters() if _.dim() > 1])\n",
    "\n",
    "\n",
    "print('===============Training Network with Regularization============')\n",
    "opt = optim.Adam(net.parameters(), lr=1e-3)\n",
    "for i in range(1000):\n",
    "    out = net(Variable(X))\n",
    "    l = nn.CrossEntropyLoss()(out, Variable(y)).view([1])\n",
    "\n",
    "    l1_scale = torch.Tensor([1e-4])\n",
    "    l += l1_scale * l1_loss(net).view([1])\n",
    "\n",
    "    err = (out.max(1)[1].data != y).float().mean()\n",
    "    opt.zero_grad()\n",
    "    (l).backward()\n",
    "    opt.step()\n",
    "\n",
    "print('error: ', err)\n",
    "\n",
    "\n",
    "\n",
    "# ==================================\n",
    "# Visualize:  regularized classifier boundary\n",
    "# ==================================\n",
    "\n",
    "XX, YY = np.meshgrid(np.linspace(0, 1, 100), np.linspace(0, 1, 100))\n",
    "X0 = Variable(torch.Tensor(np.stack([np.ravel(XX), np.ravel(YY)]).T))\n",
    "y0 = network(X0)\n",
    "ZZ = (y0[:,0] - y0[:,1]).resize(100, 100).data.numpy()\n",
    "\n",
    "_, ax = plt.subplots(figsize=(8,8))\n",
    "ax.contourf(XX,YY,-ZZ, cmap=\"coolwarm\", levels=np.linspace(-1000,1000,3))\n",
    "ax.scatter(X.numpy()[:,0], X.numpy()[:,1], c=y.numpy(), cmap=\"coolwarm\", s=70)\n",
    "ax.axis(\"equal\")\n",
    "ax.axis([0, 1, 0, 1])\n",
    "\n",
    "plt.show()"
   ]
  },
  {
   "cell_type": "code",
   "execution_count": 5,
   "metadata": {},
   "outputs": [],
   "source": [
    "\n",
    "save_dir = os.path.join(os.getcwd(), 'plots/oop_plnn_l2/')\n",
    "geocert = geo.IncrementalGeoCert(network, verbose=True, display=True, save_dir=save_dir, \n",
    "                                 ax=None)\n"
   ]
  },
  {
   "cell_type": "code",
   "execution_count": 10,
   "metadata": {},
   "outputs": [
    {
     "name": "stdout",
     "output_type": "stream",
     "text": [
      "tensor([[0.7000, 0.6000],\n",
      "        [0.5000, 0.5000]])\n",
      "tensor([1, 0])\n"
     ]
    }
   ],
   "source": [
    "examples = torch.Tensor([[0.7, 0.6], \n",
    "                         [0.5, 0.5]])\n",
    "labels = network(examples).max(1)[1]\n",
    "\n",
    "print(examples)\n",
    "print(labels)\n"
   ]
  },
  {
   "cell_type": "code",
   "execution_count": 11,
   "metadata": {},
   "outputs": [
    {
     "data": {
      "text/plain": [
       "<module 'adversarial_attacks' from 'mister_ed/adversarial_attacks.py'>"
      ]
     },
     "execution_count": 11,
     "metadata": {},
     "output_type": "execute_result"
    }
   ],
   "source": [
    "import adversarial_perturbations as ap \n",
    "import prebuilt_loss_functions as plf\n",
    "import loss_functions as lf \n",
    "import adversarial_attacks as aa\n",
    "import utils.pytorch_utils as me_utils\n",
    "from importlib import reload \n",
    "reload(aa)"
   ]
  },
  {
   "cell_type": "code",
   "execution_count": 12,
   "metadata": {},
   "outputs": [
    {
     "name": "stdout",
     "output_type": "stream",
     "text": [
      "DIST <class 'loss_functions.L2Regularization'> True <class 'loss_functions.ReferenceRegularizer'>\n",
      "Starting binary_search_step 00...\n",
      "Optim search: 100, Loss: tensor(61.4530, grad_fn=<ThAddBackward>)\n",
      "(iteration 100):  100.0 correct\n",
      "Optim search: 200, Loss: tensor(52.1420, grad_fn=<ThAddBackward>)\n",
      "(iteration 200):  100.0 correct\n",
      "Optim search: 300, Loss: tensor(42.8309, grad_fn=<ThAddBackward>)\n",
      "(iteration 300):  100.0 correct\n",
      "Optim search: 400, Loss: tensor(33.5200, grad_fn=<ThAddBackward>)\n",
      "(iteration 400):  100.0 correct\n",
      "Optim search: 500, Loss: tensor(24.2092, grad_fn=<ThAddBackward>)\n",
      "(iteration 500):  100.0 correct\n",
      "Optim search: 600, Loss: tensor(19.3355, grad_fn=<ThAddBackward>)\n",
      "(iteration 600):  50.0 correct\n",
      "Optim search: 700, Loss: tensor(14.6799, grad_fn=<ThAddBackward>)\n",
      "(iteration 700):  50.0 correct\n",
      "Optim search: 800, Loss: tensor(10.0243, grad_fn=<ThAddBackward>)\n",
      "(iteration 800):  50.0 correct\n",
      "Optim search: 900, Loss: tensor(5.3687, grad_fn=<ThAddBackward>)\n",
      "(iteration 900):  50.0 correct\n",
      "Optim search: 1000, Loss: tensor(0.7131, grad_fn=<ThAddBackward>)\n",
      "(iteration 1000):  50.0 correct\n",
      "...stopping early on binary_search_step 00  after 1014 iterations\n",
      "Starting binary_search_step 01...\n",
      "Optim search: 100, Loss: tensor(30.7337, grad_fn=<ThAddBackward>)\n",
      "(iteration 100):  100.0 correct\n",
      "Optim search: 200, Loss: tensor(26.0853, grad_fn=<ThAddBackward>)\n",
      "(iteration 200):  100.0 correct\n",
      "Optim search: 300, Loss: tensor(21.4370, grad_fn=<ThAddBackward>)\n",
      "(iteration 300):  100.0 correct\n",
      "Optim search: 400, Loss: tensor(16.7886, grad_fn=<ThAddBackward>)\n",
      "(iteration 400):  100.0 correct\n",
      "Optim search: 500, Loss: tensor(12.1403, grad_fn=<ThAddBackward>)\n",
      "(iteration 500):  100.0 correct\n",
      "Optim search: 600, Loss: tensor(9.7073, grad_fn=<ThAddBackward>)\n",
      "(iteration 600):  50.0 correct\n",
      "Optim search: 700, Loss: tensor(7.3830, grad_fn=<ThAddBackward>)\n",
      "(iteration 700):  50.0 correct\n",
      "Optim search: 800, Loss: tensor(5.0587, grad_fn=<ThAddBackward>)\n",
      "(iteration 800):  50.0 correct\n",
      "Optim search: 900, Loss: tensor(2.7344, grad_fn=<ThAddBackward>)\n",
      "(iteration 900):  50.0 correct\n",
      "Optim search: 1000, Loss: tensor(0.4101, grad_fn=<ThAddBackward>)\n",
      "(iteration 1000):  50.0 correct\n",
      "...stopping early on binary_search_step 01  after 1015 iterations\n",
      "Starting binary_search_step 02...\n",
      "Optim search: 100, Loss: tensor(36.6587, grad_fn=<ThAddBackward>)\n",
      "(iteration 100):  100.0 correct\n",
      "Optim search: 200, Loss: tensor(32.0103, grad_fn=<ThAddBackward>)\n",
      "(iteration 200):  100.0 correct\n",
      "Optim search: 300, Loss: tensor(27.3619, grad_fn=<ThAddBackward>)\n",
      "(iteration 300):  100.0 correct\n",
      "Optim search: 400, Loss: tensor(22.7136, grad_fn=<ThAddBackward>)\n",
      "(iteration 400):  100.0 correct\n",
      "Optim search: 500, Loss: tensor(18.0652, grad_fn=<ThAddBackward>)\n",
      "(iteration 500):  100.0 correct\n",
      "Optim search: 600, Loss: tensor(14.5214, grad_fn=<ThAddBackward>)\n",
      "(iteration 600):  50.0 correct\n",
      "Optim search: 700, Loss: tensor(11.0314, grad_fn=<ThAddBackward>)\n",
      "(iteration 700):  50.0 correct\n",
      "Optim search: 800, Loss: tensor(7.5414, grad_fn=<ThAddBackward>)\n",
      "(iteration 800):  50.0 correct\n",
      "Optim search: 900, Loss: tensor(4.0514, grad_fn=<ThAddBackward>)\n",
      "(iteration 900):  50.0 correct\n",
      "Optim search: 1000, Loss: tensor(0.5614, grad_fn=<ThAddBackward>)\n",
      "(iteration 1000):  50.0 correct\n",
      "...stopping early on binary_search_step 02  after 1014 iterations\n",
      "Starting binary_search_step 03...\n",
      "Optim search: 100, Loss: tensor(39.6212, grad_fn=<ThAddBackward>)\n",
      "(iteration 100):  100.0 correct\n",
      "Optim search: 200, Loss: tensor(34.9729, grad_fn=<ThAddBackward>)\n",
      "(iteration 200):  100.0 correct\n",
      "Optim search: 300, Loss: tensor(30.3244, grad_fn=<ThAddBackward>)\n",
      "(iteration 300):  100.0 correct\n",
      "Optim search: 400, Loss: tensor(25.6761, grad_fn=<ThAddBackward>)\n",
      "(iteration 400):  100.0 correct\n",
      "Optim search: 500, Loss: tensor(21.0277, grad_fn=<ThAddBackward>)\n",
      "(iteration 500):  100.0 correct\n",
      "Optim search: 600, Loss: tensor(16.9284, grad_fn=<ThAddBackward>)\n",
      "(iteration 600):  50.0 correct\n",
      "Optim search: 700, Loss: tensor(12.8556, grad_fn=<ThAddBackward>)\n",
      "(iteration 700):  50.0 correct\n",
      "Optim search: 800, Loss: tensor(8.7827, grad_fn=<ThAddBackward>)\n",
      "(iteration 800):  50.0 correct\n",
      "Optim search: 900, Loss: tensor(4.7098, grad_fn=<ThAddBackward>)\n",
      "(iteration 900):  50.0 correct\n",
      "Optim search: 1000, Loss: tensor(0.6369, grad_fn=<ThAddBackward>)\n",
      "(iteration 1000):  50.0 correct\n",
      "...stopping early on binary_search_step 03  after 1014 iterations\n",
      "Starting binary_search_step 04...\n",
      "Optim search: 100, Loss: tensor(35.7813, grad_fn=<ThAddBackward>)\n",
      "(iteration 100):  100.0 correct\n",
      "Optim search: 200, Loss: tensor(31.7158, grad_fn=<ThAddBackward>)\n",
      "(iteration 200):  100.0 correct\n",
      "Optim search: 300, Loss: tensor(27.6502, grad_fn=<ThAddBackward>)\n",
      "(iteration 300):  100.0 correct\n",
      "Optim search: 400, Loss: tensor(23.5846, grad_fn=<ThAddBackward>)\n",
      "(iteration 400):  100.0 correct\n",
      "Optim search: 500, Loss: tensor(19.5191, grad_fn=<ThAddBackward>)\n",
      "(iteration 500):  100.0 correct\n",
      "Optim search: 600, Loss: tensor(15.7248, grad_fn=<ThAddBackward>)\n",
      "(iteration 600):  50.0 correct\n",
      "Optim search: 700, Loss: tensor(11.9433, grad_fn=<ThAddBackward>)\n",
      "(iteration 700):  50.0 correct\n",
      "Optim search: 800, Loss: tensor(8.1617, grad_fn=<ThAddBackward>)\n",
      "(iteration 800):  50.0 correct\n",
      "Optim search: 900, Loss: tensor(4.3803, grad_fn=<ThAddBackward>)\n",
      "(iteration 900):  50.0 correct\n",
      "Optim search: 1000, Loss: tensor(0.5989, grad_fn=<ThAddBackward>)\n",
      "(iteration 1000):  50.0 correct\n",
      "...stopping early on binary_search_step 04  after 1014 iterations\n",
      "\n",
      " Ending attack\n",
      "Successful attacks for 002/002 examples in CONTINUOUS\n"
     ]
    }
   ],
   "source": [
    "delta_threat = ap.ThreatModel(ap.DeltaAddition, {'lp_style': 'inf', \n",
    "                                                 'lp_bound': 1.0})\n",
    "normalizer = me_utils.IdentityNormalize() \n",
    "distance_fxn = lf.L2Regularization\n",
    "carlini_loss = lf.CWLossF6\n",
    "cwl2_attack = aa.CarliniWagner(net, normalizer, delta_threat, distance_fxn, carlini_loss)\n",
    "\n",
    "attack_kwargs = {'warm_start': False, 'num_optim_steps': 2000, 'num_bin_search_steps': 5,\n",
    "                 'initial_lambda': 10, 'verbose': True}\n",
    "pert_out = cwl2_attack.attack(examples, labels, **attack_kwargs)\n",
    "#adv_examples\n"
   ]
  },
  {
   "cell_type": "code",
   "execution_count": 15,
   "metadata": {},
   "outputs": [
    {
     "data": {
      "text/plain": [
       "tensor([[0.5985, 0.4985],\n",
       "        [0.5506, 0.5505]])"
      ]
     },
     "execution_count": 15,
     "metadata": {},
     "output_type": "execute_result"
    }
   ],
   "source": [
    "pert_out.adversarial_tensors()"
   ]
  },
  {
   "cell_type": "code",
   "execution_count": null,
   "metadata": {},
   "outputs": [],
   "source": []
  }
 ],
 "metadata": {
  "kernelspec": {
   "display_name": "Python 3",
   "language": "python",
   "name": "python3"
  },
  "language_info": {
   "codemirror_mode": {
    "name": "ipython",
    "version": 3
   },
   "file_extension": ".py",
   "mimetype": "text/x-python",
   "name": "python",
   "nbconvert_exporter": "python",
   "pygments_lexer": "ipython3",
   "version": "3.7.2"
  }
 },
 "nbformat": 4,
 "nbformat_minor": 2
}
