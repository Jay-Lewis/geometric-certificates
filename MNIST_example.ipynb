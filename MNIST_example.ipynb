{
 "cells": [
  {
   "cell_type": "markdown",
   "metadata": {},
   "source": [
    "# GeoCert : Binary MNIST Example\n",
    "In this example, we'll train a neural network to distinguish between 1s and 7s and run GeoCert on it"
   ]
  },
  {
   "cell_type": "code",
   "execution_count": 14,
   "metadata": {},
   "outputs": [],
   "source": [
    "# =====================\n",
    "# Imports\n",
    "# =====================\n",
    "import sys\n",
    "sys.path.append('..')\n",
    "sys.path.append('../mister_ed') # library for adversarial examples\n",
    "\n",
    "import geocert_demulti as geo\n",
    "from plnn import PLNN\n",
    "import pickle\n",
    "import matplotlib.pyplot as plt\n",
    "import numpy as np\n",
    "import torch\n",
    "import torch.nn as nn\n",
    "import torch.optim as optim\n",
    "from torch.autograd import Variable\n",
    "from torchvision import datasets, transforms\n",
    "import mnist.mnist_loader as  ml \n"
   ]
  },
  {
   "cell_type": "markdown",
   "metadata": {},
   "source": [
    "# Step 1: Train a model\n",
    "What follows is a block to \n",
    "1. Load MNIST 1's and 7's \n",
    "2. Define some boilerplate training code and standard regularizers\n",
    "3. Try to load a pretrained model. If no such model exists, train a model and save it so we can load it next time"
   ]
  },
  {
   "cell_type": "code",
   "execution_count": 15,
   "metadata": {},
   "outputs": [],
   "source": [
    "# Load valset \n",
    "valset = ml.load_single_digits('val', [1, 7], batch_size=16, shuffle=False)        "
   ]
  },
  {
   "cell_type": "code",
   "execution_count": 16,
   "metadata": {},
   "outputs": [],
   "source": [
    "##################################################################################\n",
    "#                                                                                #\n",
    "#                       Network Model + Data Loading                             #\n",
    "#                                                                                #\n",
    "##################################################################################\n",
    "\n",
    "# Define functions to train and evaluate a network \n",
    "\n",
    "def l1_loss(net):\n",
    "    return sum([_.norm(p=1) for _ in net.parameters() if _.dim() > 1])\n",
    "\n",
    "def l2_loss(net):\n",
    "    return sum([_.norm(p=2) for _ in net.parameters() if _.dim() > 1])\n",
    "  \n",
    "    \n",
    "def train(net, trainset, num_epochs):\n",
    "    opt = optim.Adam(net.parameters(), lr=1e-3, weight_decay=0)\n",
    "    for epoch in range(num_epochs):\n",
    "        err_acc = 0\n",
    "        err_count = 0\n",
    "        for data, labels in trainset:\n",
    "            output = net(Variable(data.view(-1, 784)))\n",
    "            l = nn.CrossEntropyLoss()(output, Variable(labels)).view([1])\n",
    "            l1_scale = torch.Tensor([1e-3]) # L1 regularization for speed\n",
    "            l += l1_scale * l1_loss(net).view([1])\n",
    "            \n",
    "            err_acc += (output.max(1)[1].data != labels).float().mean() \n",
    "            err_count += 1\n",
    "            opt.zero_grad() \n",
    "            (l).backward() \n",
    "            opt.step() \n",
    "        print(\"(%02d) error:\" % epoch, err_acc / err_count)\n",
    "            \n",
    "        \n",
    "def test_acc(net, valset):\n",
    "    err_acc = 0 \n",
    "    err_count = 0 \n",
    "    for data, labels in valset:\n",
    "        n = data.shape[0]\n",
    "        output = net(Variable(data.view(-1, 784)))\n",
    "        err_acc += (output.max(1)[1].data != labels).float().mean() * n\n",
    "        err_count += n\n",
    "        \n",
    "    print(\"Accuracy of: %.03f\" % (1 - (err_acc / err_count).item()))"
   ]
  },
  {
   "cell_type": "code",
   "execution_count": null,
   "metadata": {},
   "outputs": [
    {
     "name": "stdout",
     "output_type": "stream",
     "text": [
      "Training a new network\n",
      "[784, 10, 50, 10, 2]\n",
      "(00) error: tensor(0.0263)\n",
      "(01) error: tensor(0.0073)\n"
     ]
    }
   ],
   "source": [
    "NETWORK_NAME = '17_mnist_small.pkl'\n",
    "MNIST_DIM = 784\n",
    "layer_sizes = [MNIST_DIM, 10, 50, 10, 2]\n",
    "\n",
    "try: \n",
    "    network = pickle.load(open(NETWORK_NAME, 'rb'))\n",
    "    net = network.net\n",
    "    print(\"Loaded pretrained network\")\n",
    "except:\n",
    "    print(\"Training a new network\")\n",
    "    trainset = ml.load_single_digits('train', [1, 7], batch_size=16, shuffle=False)  \n",
    "    network = PLNN([MNIST_DIM, 10, 50, 10, 2])\n",
    "    net = network.net\n",
    "    train(net, trainset, 10)\n",
    "    pickle.dump(network, open(NETWORK_NAME, 'wb'))\n",
    "    \n",
    "test_acc(net, valset)    "
   ]
  },
  {
   "cell_type": "markdown",
   "metadata": {},
   "source": [
    "# Step 2: Run GeoCert \n",
    "We'll now demonstrate basic GeoCert usage..."
   ]
  },
  {
   "cell_type": "code",
   "execution_count": 6,
   "metadata": {},
   "outputs": [],
   "source": [
    "# First make the GeoCert object \n",
    "geocert = geo.GeoCert(network, hyperbox_bounds=(0.0, 1.0),\n",
    "                      verbose=True, neuron_bounds='ia')"
   ]
  },
  {
   "cell_type": "code",
   "execution_count": 7,
   "metadata": {},
   "outputs": [],
   "source": [
    "# And pick an example image \n",
    "example_image = valset[0][0][0]\n"
   ]
  },
  {
   "cell_type": "code",
   "execution_count": 8,
   "metadata": {},
   "outputs": [
    {
     "name": "stdout",
     "output_type": "stream",
     "text": [
      "Starting upper bound computation\n",
      "Upper bound of 0.4945701062679291 in 6.42 seconds\n",
      "---Initial Polytope---\n",
      "Academic license - for non-commercial use only\n",
      "(p0) Popped: 0.044941  | 0.494570\n",
      "(p0) Popped: 0.045854  | 0.494570\n",
      "(p0) Popped: 0.053166  | 0.494570\n",
      "(p0) Popped: 0.083058  | 0.494570\n",
      "(p0) Popped: 0.083255  | 0.494570\n",
      "Warning for adding constraints: zero or small (< 1e-13) coefficients, ignored\n",
      "(p0) Popped: 0.128598  | 0.494570\n",
      "(p0) Popped: 0.128697  | 0.494570\n",
      "(p0) Popped: 0.160577  | 0.494570\n",
      "(p0) Popped: 0.160826  | 0.494570\n",
      "(p0) Popped: 0.189611  | 0.494570\n",
      "(p0) Popped: 0.189656  | 0.494570\n",
      "(p0) Popped: 0.190793  | 0.494570\n",
      "(p0) Popped: 0.190831  | 0.494570\n",
      "(p0) Popped: 0.192901  | 0.494570\n",
      "(p0) Popped: 0.192955  | 0.494570\n",
      "(p0) Popped: 0.194534  | 0.494570\n",
      "(p0) Popped: 0.194581  | 0.494570\n",
      "(p0) Popped: 0.195818  | 0.494570\n",
      "(p0) Popped: 0.195882  | 0.494570\n",
      "(p0) Popped: 0.196457  | 0.494570\n",
      "-------------------- DOMAIN UPDATE | L_inf 0.261807 | L_2 5.749290\n",
      "(p0) Popped: 0.196513  | 0.261807\n",
      "(p0) Popped: 0.201024  | 0.261807\n",
      "(p0) Popped: 0.201122  | 0.261807\n",
      "(p0) Popped: 0.214553  | 0.261807\n",
      "(p0) Popped: 0.214838  | 0.261807\n",
      "(p0) Popped: 0.256792  | 0.261807\n",
      "(p0) Popped: 0.257937  | 0.261807\n",
      "GeoCert Return Object\n",
      "\tProblem Type: min_dist\n",
      "\tStatus: SUCCESS\n",
      "\tRobustness: 0.2618\n"
     ]
    }
   ],
   "source": [
    "# And then run geocert \n",
    "example_output = geocert.run(example_image, compute_upper_bound=True, \n",
    "                             lp_norm='l_inf', problem_type='min_dist')\n",
    "print(example_output)"
   ]
  },
  {
   "cell_type": "code",
   "execution_count": 9,
   "metadata": {},
   "outputs": [
    {
     "name": "stdout",
     "output_type": "stream",
     "text": [
      "Decision bound value:  tensor([[-0.1294, -0.1294]], grad_fn=<AddmmBackward>)\n"
     ]
    }
   ],
   "source": [
    "# The return object can be interacted upon like ...\n",
    "best_adv_ex = torch.Tensor(example_output.best_ex)\n",
    "print(\"Decision bound value: \", network(best_adv_ex))\n",
    "\n"
   ]
  },
  {
   "cell_type": "code",
   "execution_count": 10,
   "metadata": {},
   "outputs": [
    {
     "data": {
      "image/png": "[encoded data removed]",
      "text/plain": [
       "<Figure size 960x960 with 1 Axes>"
      ]
     },
     "metadata": {},
     "output_type": "display_data"
    },
    {
     "data": {
      "image/png": "[encoded data removed]",
      "text/plain": [
       "<Figure size 960x960 with 1 Axes>"
      ]
     },
     "metadata": {},
     "output_type": "display_data"
    }
   ],
   "source": [
    "# And there's an easy shorthand to display these images: \n",
    "example_output.display_images(include_diffs=False) \n",
    "example_output.display_images(include_diffs=True) # Easy way to show diffs between original and adv. ex\n"
   ]
  },
  {
   "cell_type": "code",
   "execution_count": 11,
   "metadata": {},
   "outputs": [
    {
     "name": "stdout",
     "output_type": "stream",
     "text": [
      "---Initial Polytope---\n",
      "(p0) Popped: 0.027119  | 4.000000\n",
      "(p0) Popped: 0.696404  | 4.000000\n",
      "(p0) Popped: 0.709251  | 4.000000\n",
      "(p0) Popped: 0.852654  | 4.000000\n",
      "(p0) Popped: 0.852654  | 4.000000\n",
      "(p0) Popped: 1.064269  | 4.000000\n",
      "(p0) Popped: 1.067394  | 4.000000\n",
      "GeoCert Return Object\n",
      "\tProblem Type: decision_problem\n",
      "\tStatus: SUCCESS\n",
      "\tRadius 4.00\n",
      "\n"
     ]
    }
   ],
   "source": [
    "# And we can also run the decision problem...\n",
    "example_2 = valset[0][0][1]\n",
    "example_2_output = geocert.run(example_2, lp_norm='l_2', problem_type='decision_problem', \n",
    "                               decision_radius=4.0)\n",
    "print(example_2_output)\n",
    "# Recall that 'SUCCESS' status means an adversarial example DOES exist w/in the radius"
   ]
  },
  {
   "cell_type": "code",
   "execution_count": 12,
   "metadata": {},
   "outputs": [
    {
     "name": "stdout",
     "output_type": "stream",
     "text": [
      "---Initial Polytope---\n",
      "(p0) Popped: 0.035074  | 1.000000\n",
      "(p0) Popped: 0.036986  | 1.000000\n",
      "(p0) Popped: 0.037032  | 1.000000\n",
      "(p0) Popped: 0.037051  | 1.000000\n",
      "(p0) Popped: 0.042294  | 1.000000\n",
      "(p0) Popped: 0.042297  | 1.000000\n",
      "(p0) Popped: 0.042303  | 1.000000\n",
      "(p0) Popped: 0.142991  | 1.000000\n",
      "(p0) Popped: 0.143042  | 1.000000\n",
      "(p0) Popped: 0.143361  | 1.000000\n",
      "(p0) Popped: 0.143413  | 1.000000\n",
      "(p0) Popped: 0.145800  | 1.000000\n",
      "(p0) Popped: 0.145849  | 1.000000\n",
      "(p0) Popped: 0.147671  | 1.000000\n",
      "(p0) Popped: 0.147731  | 1.000000\n",
      "(p0) Popped: 0.155128  | 1.000000\n",
      "(p0) Popped: 0.155182  | 1.000000\n",
      "(p0) Popped: 0.191137  | 1.000000\n",
      "(p0) Popped: 0.191375  | 1.000000\n",
      "(p0) Popped: 0.218743  | 1.000000\n",
      "(p0) Popped: 0.219143  | 1.000000\n",
      "(p0) Popped: 0.235224  | 1.000000\n",
      "(p0) Popped: 0.235254  | 1.000000\n",
      "(p0) Popped: 0.241241  | 1.000000\n",
      "(p0) Popped: 0.241289  | 1.000000\n",
      "(p0) Popped: 0.260380  | 1.000000\n",
      "(p0) Popped: 0.260412  | 1.000000\n",
      "(p0) Popped: 0.268839  | 1.000000\n",
      "(p0) Popped: 0.268864  | 1.000000\n",
      "(p0) Popped: 0.273021  | 1.000000\n",
      "(p0) Popped: 0.273271  | 1.000000\n",
      "Warning for adding constraints: zero or small (< 1e-13) coefficients, ignored\n",
      "(p0) Popped: 0.359646  | 1.000000\n",
      "(p0) Popped: 0.359884  | 1.000000\n",
      "(p0) Popped: 0.424472  | 1.000000\n",
      "(p0) Popped: 0.424692  | 1.000000\n",
      "(p0) Popped: 0.453611  | 1.000000\n",
      "(p0) Popped: 0.453695  | 1.000000\n",
      "(p0) Popped: 0.492239  | 1.000000\n",
      "(p0) Popped: 0.492770  | 1.000000\n",
      "(p0) Popped: 0.572618  | 1.000000\n",
      "(p0) Popped: 0.572940  | 1.000000\n",
      "(p0) Popped: 0.603791  | 1.000000\n",
      "(p0) Popped: 0.603791  | 1.000000\n",
      "Warning for adding constraints: zero or small (< 1e-13) coefficients, ignored\n",
      "(p0) Popped: 0.603791  | 1.000000\n",
      "Warning for adding constraints: zero or small (< 1e-13) coefficients, ignored\n",
      "(p0) Popped: 0.603791  | 1.000000\n",
      "(p0) Popped: 0.603791  | 1.000000\n",
      "(p0) Popped: 0.603791  | 1.000000\n",
      "(p0) Popped: 0.603796  | 1.000000\n",
      "(p0) Popped: 0.604413  | 1.000000\n",
      "(p0) Popped: 0.604429  | 1.000000\n",
      "Warning for adding constraints: zero or small (< 1e-13) coefficients, ignored\n",
      "(p0) Popped: 0.604433  | 1.000000\n",
      "(p0) Popped: 0.604438  | 1.000000\n",
      "(p0) Popped: 0.604438  | 1.000000\n",
      "(p0) Popped: 0.604440  | 1.000000\n",
      "(p0) Popped: 0.604444  | 1.000000\n",
      "(p0) Popped: 0.605311  | 1.000000\n",
      "(p0) Popped: 0.605676  | 1.000000\n",
      "(p0) Popped: 0.606061  | 1.000000\n",
      "(p0) Popped: 0.606117  | 1.000000\n",
      "(p0) Popped: 0.606160  | 1.000000\n",
      "(p0) Popped: 0.606386  | 1.000000\n",
      "(p0) Popped: 0.606797  | 1.000000\n",
      "(p0) Popped: 0.606842  | 1.000000\n",
      "Warning for adding constraints: zero or small (< 1e-13) coefficients, ignored\n",
      "(p0) Popped: 0.607760  | 1.000000\n",
      "(p0) Popped: 0.608253  | 1.000000\n",
      "(p0) Popped: 0.608448  | 1.000000\n",
      "(p0) Popped: 0.608816  | 1.000000\n",
      "Warning for adding constraints: zero or small (< 1e-13) coefficients, ignored\n",
      "(p0) Popped: 0.609293  | 1.000000\n",
      "Warning for adding constraints: zero or small (< 1e-13) coefficients, ignored\n",
      "(p0) Popped: 0.609555  | 1.000000\n",
      "(p0) Popped: 0.614361  | 1.000000\n",
      "(p0) Popped: 0.615138  | 1.000000\n",
      "(p0) Popped: 0.615671  | 1.000000\n",
      "(p0) Popped: 0.615993  | 1.000000\n",
      "(p0) Popped: 0.616404  | 1.000000\n",
      "(p0) Popped: 0.617198  | 1.000000\n",
      "(p0) Popped: 0.618405  | 1.000000\n",
      "(p0) Popped: 0.618405  | 1.000000\n",
      "(p0) Popped: 0.618940  | 1.000000\n",
      "(p0) Popped: 0.618940  | 1.000000\n",
      "(p0) Popped: 0.636186  | 1.000000\n",
      "(p0) Popped: 0.636477  | 1.000000\n",
      "Warning for adding constraints: zero or small (< 1e-13) coefficients, ignored\n",
      "(p0) Popped: 0.645246  | 1.000000\n",
      "(p0) Popped: 0.646524  | 1.000000\n",
      "(p0) Popped: 0.687754  | 1.000000\n",
      "(p0) Popped: 0.688292  | 1.000000\n",
      "(p0) Popped: 0.696728  | 1.000000\n",
      "(p0) Popped: 0.697025  | 1.000000\n",
      "(p0) Popped: 0.728079  | 1.000000\n",
      "(p0) Popped: 0.728358  | 1.000000\n",
      "(p0) Popped: 0.728834  | 1.000000\n",
      "(p0) Popped: 0.728992  | 1.000000\n",
      "(p0) Popped: 0.742417  | 1.000000\n",
      "(p0) Popped: 0.742423  | 1.000000\n",
      "(p0) Popped: 0.744462  | 1.000000\n",
      "(p0) Popped: 0.744463  | 1.000000\n",
      "(p0) Popped: 0.745217  | 1.000000\n",
      "(p0) Popped: 0.747357  | 1.000000\n",
      "(p0) Popped: 0.801576  | 1.000000\n",
      "(p0) Popped: 0.806292  | 1.000000\n",
      "(p0) Popped: 0.825938  | 1.000000\n",
      "(p0) Popped: 0.826479  | 1.000000\n",
      "(p0) Popped: 0.828004  | 1.000000\n",
      "(p0) Popped: 0.828503  | 1.000000\n",
      "(p0) Popped: 0.839843  | 1.000000\n",
      "(p0) Popped: 0.842080  | 1.000000\n",
      "(p0) Popped: 0.879015  | 1.000000\n",
      "(p0) Popped: 0.879285  | 1.000000\n",
      "(p0) Popped: 0.879368  | 1.000000\n",
      "(p0) Popped: 0.879448  | 1.000000\n",
      "(p0) Popped: 0.879627  | 1.000000\n",
      "(p0) Popped: 0.879641  | 1.000000\n",
      "(p0) Popped: 0.879682  | 1.000000\n",
      "(p0) Popped: 0.879752  | 1.000000\n",
      "(p0) Popped: 0.879893  | 1.000000\n",
      "(p0) Popped: 0.879896  | 1.000000\n",
      "(p0) Popped: 0.879919  | 1.000000\n",
      "(p0) Popped: 0.879936  | 1.000000\n",
      "(p0) Popped: 0.879968  | 1.000000\n",
      "(p0) Popped: 0.879984  | 1.000000\n",
      "(p0) Popped: 0.880047  | 1.000000\n",
      "(p0) Popped: 0.880205  | 1.000000\n",
      "(p0) Popped: 0.880261  | 1.000000\n",
      "(p0) Popped: 0.880426  | 1.000000\n",
      "(p0) Popped: 0.880429  | 1.000000\n",
      "(p0) Popped: 0.880449  | 1.000000\n",
      "(p0) Popped: 0.880515  | 1.000000\n",
      "(p0) Popped: 0.880535  | 1.000000\n",
      "(p0) Popped: 0.880614  | 1.000000\n",
      "(p0) Popped: 0.880970  | 1.000000\n",
      "(p0) Popped: 0.881084  | 1.000000\n",
      "(p0) Popped: 0.881151  | 1.000000\n",
      "(p0) Popped: 0.881442  | 1.000000\n",
      "(p0) Popped: 0.881645  | 1.000000\n",
      "(p0) Popped: 0.882873  | 1.000000\n",
      "(p0) Popped: 0.882980  | 1.000000\n",
      "(p0) Popped: 0.883052  | 1.000000\n",
      "(p0) Popped: 0.883385  | 1.000000\n",
      "(p0) Popped: 0.883388  | 1.000000\n",
      "(p0) Popped: 0.883976  | 1.000000\n",
      "(p0) Popped: 0.890232  | 1.000000\n",
      "(p0) Popped: 0.890705  | 1.000000\n",
      "(p0) Popped: 0.891383  | 1.000000\n",
      "(p0) Popped: 0.891383  | 1.000000\n",
      "(p0) Popped: 0.891511  | 1.000000\n",
      "(p0) Popped: 0.891694  | 1.000000\n",
      "(p0) Popped: 0.891694  | 1.000000\n",
      "(p0) Popped: 0.891832  | 1.000000\n",
      "(p0) Popped: 0.892629  | 1.000000\n",
      "(p0) Popped: 0.893026  | 1.000000\n",
      "(p0) Popped: 0.894107  | 1.000000\n",
      "(p0) Popped: 0.897258  | 1.000000\n",
      "(p0) Popped: 0.898399  | 1.000000\n",
      "(p0) Popped: 0.898530  | 1.000000\n",
      "(p0) Popped: 0.942555  | 1.000000\n",
      "(p0) Popped: 0.942680  | 1.000000\n",
      "(p0) Popped: 0.942868  | 1.000000\n",
      "(p0) Popped: 0.943036  | 1.000000\n",
      "(p0) Popped: 0.956409  | 1.000000\n",
      "(p0) Popped: 0.956754  | 1.000000\n",
      "COUNTED 160 LINEAR REGIONS\n"
     ]
    }
   ],
   "source": [
    "# And we can also do things like count the number of linear regions in a ball (like the entire domain...)\n",
    "example_3 = valset[0][0][2]\n",
    "example_3_output = geocert.run(example_3, lp_norm='l_inf', problem_type='count_regions', decision_radius=1.0)"
   ]
  },
  {
   "cell_type": "code",
   "execution_count": 13,
   "metadata": {},
   "outputs": [
    {
     "name": "stdout",
     "output_type": "stream",
     "text": [
      "GeoCert Return Object\n",
      "\tProblem Type: count_regions\n",
      "\tStatus: SUCCESS\n",
      "\tRadius 1.00\n",
      "\tNum Linear Regions: 160\n"
     ]
    }
   ],
   "source": [
    "print(example_3_output)"
   ]
  },
  {
   "cell_type": "code",
   "execution_count": null,
   "metadata": {},
   "outputs": [],
   "source": []
  }
 ],
 "metadata": {
  "kernelspec": {
   "display_name": "Python 3",
   "language": "python",
   "name": "python3"
  },
  "language_info": {
   "codemirror_mode": {
    "name": "ipython",
    "version": 3
   },
   "file_extension": ".py",
   "mimetype": "text/x-python",
   "name": "python",
   "nbconvert_exporter": "python",
   "pygments_lexer": "ipython3",
   "version": "3.6.8"
  }
 },
 "nbformat": 4,
 "nbformat_minor": 2
}
