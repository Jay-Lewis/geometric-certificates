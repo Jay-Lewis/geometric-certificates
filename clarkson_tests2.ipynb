{
 "cells": [
  {
   "cell_type": "code",
   "execution_count": 1,
   "metadata": {},
   "outputs": [
    {
     "name": "stderr",
     "output_type": "stream",
     "text": [
      "/Users/jordanm/.virtualenvs/myvenv/lib/python3.7/site-packages/matplotlib/figure.py:98: MatplotlibDeprecationWarning: \n",
      "Adding an axes using the same arguments as a previous axes currently reuses the earlier instance.  In a future version, a new instance will always be created and returned.  Meanwhile, this warning can be suppressed, and the future behavior ensured, by passing a unique label to each axes instance.\n",
      "  \"Adding an axes using the same arguments as a previous axes \"\n"
     ]
    }
   ],
   "source": [
    "# =====================\n",
    "# Imports\n",
    "# =====================\n",
    "%load_ext line_profiler\n",
    "import sys\n",
    "sys.path.append('mister_ed')\n",
    "\n",
    "from geocert import compute_boundary_batch, batch_GeoCert, incremental_GeoCert\n",
    "import geocert_oop as geo\n",
    "from plnn import PLNN\n",
    "import _polytope_ as _poly_\n",
    "from _polytope_ import Polytope, Face, from_polytope_dict\n",
    "import utilities as utils\n",
    "import os\n",
    "import matplotlib.pyplot as plt\n",
    "import numpy as np\n",
    "import torch\n",
    "import torch.nn as nn\n",
    "import torch.optim as optim\n",
    "from torch.autograd import Variable\n",
    "from torchvision import datasets, transforms\n",
    "# from convex_adversarial import robust_loss\n",
    "\n",
    "import adversarial_perturbations as ap \n",
    "import prebuilt_loss_functions as plf\n",
    "import loss_functions as lf \n",
    "import adversarial_attacks as aa\n",
    "import utils.pytorch_utils as me_utils\n",
    "\n",
    "true_idxs = lambda arr: [i for i, el in enumerate(arr) if el]\n"
   ]
  },
  {
   "cell_type": "code",
   "execution_count": 2,
   "metadata": {
    "scrolled": true
   },
   "outputs": [
    {
     "name": "stdout",
     "output_type": "stream",
     "text": [
      "===============Generating Training Points============\n",
      "===============Points Generated============\n",
      "===============Initializing Network============\n",
      "Sequential(\n",
      "  (1): Linear(in_features=2, out_features=10, bias=True)\n",
      "  (2): ReLU()\n",
      "  (3): Linear(in_features=10, out_features=50, bias=True)\n",
      "  (4): ReLU()\n",
      "  (5): Linear(in_features=50, out_features=10, bias=True)\n",
      "  (6): ReLU()\n",
      "  (7): Linear(in_features=10, out_features=2, bias=True)\n",
      ")\n",
      "===============Training Network with Regularization============\n",
      "(0000) error:  tensor(0.5385)\n"
     ]
    },
    {
     "name": "stderr",
     "output_type": "stream",
     "text": [
      "/Users/jordanm/.virtualenvs/myvenv/lib/python3.7/site-packages/torch/tensor.py:263: UserWarning: non-inplace resize is deprecated\n",
      "  warnings.warn(\"non-inplace resize is deprecated\")\n"
     ]
    },
    {
     "data": {
      "image/png": "[encoded data removed]",
      "text/plain": [
       "<Figure size 576x576 with 1 Axes>"
      ]
     },
     "metadata": {
      "needs_background": "light"
     },
     "output_type": "display_data"
    }
   ],
   "source": [
    "##########################################################\n",
    "#               SET UP BABY NETWORK                      #\n",
    "##########################################################\n",
    "\n",
    "# apply incremental geocert to a normal and l1-regularized classifier. Finds maximal l_p balls\n",
    "# for random points in R^2.\n",
    "\n",
    "# ==================================\n",
    "# Generate Training Points\n",
    "# ==================================\n",
    "\n",
    "print('===============Generating Training Points============')\n",
    "# random points at least 2r apart\n",
    "# 10d example: \n",
    "DIM = 2\n",
    "m = 13\n",
    "np.random.seed(3)\n",
    "x = [np.random.uniform(size=(DIM))]\n",
    "r = 0.16\n",
    "while(len(x) < m):\n",
    "    p = np.random.uniform(size=(DIM))\n",
    "    if min(np.abs(p-a).sum() for a in x) > 2*r:\n",
    "        x.append(p)\n",
    "# r = 0.145\n",
    "epsilon = r/2\n",
    "\n",
    "X = torch.Tensor(np.array(x))\n",
    "torch.manual_seed(1)\n",
    "y = (torch.rand(m)+0.5).long()\n",
    "\n",
    "print('===============Points Generated============')\n",
    "\n",
    "# ==================================\n",
    "# Initialize Network\n",
    "# ==================================\n",
    "\n",
    "print('===============Initializing Network============')\n",
    "network = PLNN([DIM, 10, 50, 10, 2])\n",
    "net = network.net\n",
    "\n",
    "\n",
    "# ==================================\n",
    "# Train Network\n",
    "# ==================================\n",
    "\n",
    "def l1_loss(net):\n",
    "\n",
    "    return sum([_.norm(p=1) for _ in net.parameters() if _.dim() > 1])\n",
    "\n",
    "\n",
    "print('===============Training Network with Regularization============')\n",
    "opt = optim.Adam(net.parameters(), lr=1e-3)\n",
    "for i in range(1000):\n",
    "    out = net(Variable(X))\n",
    "    l = nn.CrossEntropyLoss()(out, Variable(y)).view([1])\n",
    "    l1_scale = torch.Tensor([1e-4])\n",
    "    l += l1_scale * l1_loss(net).view([1])\n",
    "\n",
    "    err = (out.max(1)[1].data != y).float().mean()\n",
    "    opt.zero_grad()\n",
    "    (l).backward()\n",
    "    opt.step()\n",
    "    if i % 1000 == 0:\n",
    "        print('(%04d) error: ' % i, err)\n",
    "\n",
    "\n",
    "\n",
    "# ==================================\n",
    "# Visualize:  regularized classifier boundary\n",
    "# ==================================\n",
    "if DIM == 2:\n",
    "    XX, YY = np.meshgrid(np.linspace(0, 1, 100), np.linspace(0, 1, 100))\n",
    "    X0 = Variable(torch.Tensor(np.stack([np.ravel(XX), np.ravel(YY)]).T))\n",
    "    y0 = network(X0)\n",
    "    ZZ = (y0[:,0] - y0[:,1]).resize(100, 100).data.numpy()\n",
    "    \n",
    "    _, ax = plt.subplots(figsize=(8,8))\n",
    "    ax.contourf(XX,YY,-ZZ, cmap=\"coolwarm\", levels=np.linspace(-1000,1000,3))\n",
    "    ax.scatter(X.numpy()[:,0], X.numpy()[:,1], c=y.numpy(), cmap=\"coolwarm\", s=70)\n",
    "    ax.axis(\"equal\")\n",
    "    ax.axis([0, 1, 0, 1])\n",
    "    \n",
    "    plt.show()"
   ]
  },
  {
   "cell_type": "code",
   "execution_count": 3,
   "metadata": {},
   "outputs": [
    {
     "data": {
      "text/plain": [
       "tensor([[-4.9916,  5.2327]], grad_fn=<ThAddmmBackward>)"
      ]
     },
     "execution_count": 3,
     "metadata": {},
     "output_type": "execute_result"
    }
   ],
   "source": [
    "##################################################################\n",
    "#               SET UP GEOCERT OBJECT                            #\n",
    "##################################################################\n",
    "\n",
    "save_dir = os.path.join(os.getcwd(), 'plots/oop_plnn_l2/')\n",
    "geocert = geo.IncrementalGeoCert(network, verbose=True, display=False, save_dir=save_dir, \n",
    "                                 ax=None, config_fxn='parallel', use_clarkson=True)\n",
    "\n",
    "test_point = torch.Tensor(np.array([0.25, 0.2]))\n",
    "network(test_point)\n",
    "\n",
    "\n"
   ]
  },
  {
   "cell_type": "code",
   "execution_count": 4,
   "metadata": {},
   "outputs": [
    {
     "name": "stdout",
     "output_type": "stream",
     "text": [
      "CWL2 found an upper bound of: 0.19298583269119263\n",
      "---Initial Polytope---\n",
      "Num facets:  4\n",
      "REJECT DICT:  {'upper_bound': 60, 'infeasible': 6}\n",
      "---Opening New Polytope---\n",
      "Lower bound is  0.015273580530166933\n",
      "Num facets:  1\n",
      "REJECT DICT:  {'upper_bound': 60, 'infeasible': 8, 'shared': 1}\n",
      "---Opening New Polytope---\n",
      "Lower bound is  0.02932016300158691\n"
     ]
    },
    {
     "name": "stderr",
     "output_type": "stream",
     "text": [
      "/Users/jordanm/.virtualenvs/myvenv/lib/python3.7/site-packages/scipy/optimize/_linprog_ip.py:1262: OptimizeWarning: Solving system with option 'sym_pos':True failed. It is normal for this to happen occasionally, especially as the solution is approached. However, if you see this frequently, consider setting option 'sym_pos' to False.\n",
      "  OptimizeWarning)\n",
      "/Users/jordanm/.virtualenvs/myvenv/lib/python3.7/site-packages/scipy/optimize/_linprog_ip.py:1274: OptimizeWarning: Solving system with option 'sym_pos':False failed. This may happen occasionally, especially as the solution is approached. However, if you see this frequently, your problem may be numerically challenging. If you cannot improve the formulation, consider setting 'lstsq' to True. Consider also setting `presolve` to True, if it is not already.\n",
      "  OptimizeWarning)\n",
      "/Users/jordanm/.virtualenvs/myvenv/lib/python3.7/site-packages/scipy/optimize/_linprog_ip.py:1048: RuntimeWarning: internal gelsd driver lwork query error, required iwork dimension not returned. This is likely the result of LAPACK bug 0038, fixed in LAPACK 3.2.2 (released July 21, 2010). Falling back to 'gelss' driver.\n",
      "  return sp.linalg.lstsq(M, r)[0]\n",
      "/Users/jordanm/.virtualenvs/myvenv/lib/python3.7/site-packages/scipy/optimize/_linprog_ip.py:1262: OptimizeWarning: Solving system with option 'sym_pos':True failed. It is normal for this to happen occasionally, especially as the solution is approached. However, if you see this frequently, consider setting option 'sym_pos' to False.\n",
      "  OptimizeWarning)\n",
      "/Users/jordanm/.virtualenvs/myvenv/lib/python3.7/site-packages/scipy/optimize/_linprog_ip.py:1274: OptimizeWarning: Solving system with option 'sym_pos':False failed. This may happen occasionally, especially as the solution is approached. However, if you see this frequently, your problem may be numerically challenging. If you cannot improve the formulation, consider setting 'lstsq' to True. Consider also setting `presolve` to True, if it is not already.\n",
      "  OptimizeWarning)\n",
      "/Users/jordanm/.virtualenvs/myvenv/lib/python3.7/site-packages/scipy/optimize/_linprog_ip.py:1048: RuntimeWarning: internal gelsd driver lwork query error, required iwork dimension not returned. This is likely the result of LAPACK bug 0038, fixed in LAPACK 3.2.2 (released July 21, 2010). Falling back to 'gelss' driver.\n",
      "  return sp.linalg.lstsq(M, r)[0]\n"
     ]
    },
    {
     "name": "stdout",
     "output_type": "stream",
     "text": [
      "Num facets:  2\n",
      "REJECT DICT:  {'upper_bound': 60, 'infeasible': 7, 'shared': 1}\n",
      "---Opening New Polytope---\n",
      "Lower bound is  0.03911100543971585\n"
     ]
    },
    {
     "name": "stderr",
     "output_type": "stream",
     "text": [
      "/Users/jordanm/.virtualenvs/myvenv/lib/python3.7/site-packages/scipy/optimize/_linprog_ip.py:1262: OptimizeWarning: Solving system with option 'sym_pos':True failed. It is normal for this to happen occasionally, especially as the solution is approached. However, if you see this frequently, consider setting option 'sym_pos' to False.\n",
      "  OptimizeWarning)\n",
      "/Users/jordanm/.virtualenvs/myvenv/lib/python3.7/site-packages/scipy/optimize/_linprog_ip.py:1274: OptimizeWarning: Solving system with option 'sym_pos':False failed. This may happen occasionally, especially as the solution is approached. However, if you see this frequently, your problem may be numerically challenging. If you cannot improve the formulation, consider setting 'lstsq' to True. Consider also setting `presolve` to True, if it is not already.\n",
      "  OptimizeWarning)\n",
      "/Users/jordanm/.virtualenvs/myvenv/lib/python3.7/site-packages/scipy/optimize/_linprog_ip.py:1048: RuntimeWarning: internal gelsd driver lwork query error, required iwork dimension not returned. This is likely the result of LAPACK bug 0038, fixed in LAPACK 3.2.2 (released July 21, 2010). Falling back to 'gelss' driver.\n",
      "  return sp.linalg.lstsq(M, r)[0]\n"
     ]
    },
    {
     "name": "stdout",
     "output_type": "stream",
     "text": [
      "Num facets:  4\n",
      "REJECT DICT:  {'upper_bound': 60, 'infeasible': 5, 'shared': 1}\n",
      "---Opening New Polytope---\n",
      "Lower bound is  0.04755930408312351\n",
      "Num facets:  2\n",
      "REJECT DICT:  {'upper_bound': 60, 'infeasible': 7, 'shared': 1}\n",
      "---Opening New Polytope---\n",
      "Lower bound is  0.056761603294902936\n"
     ]
    },
    {
     "name": "stderr",
     "output_type": "stream",
     "text": [
      "/Users/jordanm/.virtualenvs/myvenv/lib/python3.7/site-packages/scipy/optimize/_linprog_ip.py:1262: OptimizeWarning: Solving system with option 'sym_pos':True failed. It is normal for this to happen occasionally, especially as the solution is approached. However, if you see this frequently, consider setting option 'sym_pos' to False.\n",
      "  OptimizeWarning)\n",
      "/Users/jordanm/.virtualenvs/myvenv/lib/python3.7/site-packages/scipy/optimize/_linprog_ip.py:1274: OptimizeWarning: Solving system with option 'sym_pos':False failed. This may happen occasionally, especially as the solution is approached. However, if you see this frequently, your problem may be numerically challenging. If you cannot improve the formulation, consider setting 'lstsq' to True. Consider also setting `presolve` to True, if it is not already.\n",
      "  OptimizeWarning)\n",
      "/Users/jordanm/.virtualenvs/myvenv/lib/python3.7/site-packages/scipy/optimize/_linprog_ip.py:1048: RuntimeWarning: internal gelsd driver lwork query error, required iwork dimension not returned. This is likely the result of LAPACK bug 0038, fixed in LAPACK 3.2.2 (released July 21, 2010). Falling back to 'gelss' driver.\n",
      "  return sp.linalg.lstsq(M, r)[0]\n"
     ]
    },
    {
     "name": "stdout",
     "output_type": "stream",
     "text": [
      "Num facets:  4\n",
      "REJECT DICT:  {'upper_bound': 61, 'infeasible': 4, 'shared': 1}\n",
      "---Opening New Polytope---\n",
      "Lower bound is  0.061638806071402825\n"
     ]
    },
    {
     "name": "stderr",
     "output_type": "stream",
     "text": [
      "/Users/jordanm/.virtualenvs/myvenv/lib/python3.7/site-packages/scipy/optimize/_linprog_ip.py:1262: OptimizeWarning: Solving system with option 'sym_pos':True failed. It is normal for this to happen occasionally, especially as the solution is approached. However, if you see this frequently, consider setting option 'sym_pos' to False.\n",
      "  OptimizeWarning)\n",
      "/Users/jordanm/.virtualenvs/myvenv/lib/python3.7/site-packages/scipy/optimize/_linprog_ip.py:1274: OptimizeWarning: Solving system with option 'sym_pos':False failed. This may happen occasionally, especially as the solution is approached. However, if you see this frequently, your problem may be numerically challenging. If you cannot improve the formulation, consider setting 'lstsq' to True. Consider also setting `presolve` to True, if it is not already.\n",
      "  OptimizeWarning)\n",
      "/Users/jordanm/.virtualenvs/myvenv/lib/python3.7/site-packages/scipy/optimize/_linprog_ip.py:1048: RuntimeWarning: internal gelsd driver lwork query error, required iwork dimension not returned. This is likely the result of LAPACK bug 0038, fixed in LAPACK 3.2.2 (released July 21, 2010). Falling back to 'gelss' driver.\n",
      "  return sp.linalg.lstsq(M, r)[0]\n"
     ]
    },
    {
     "name": "stdout",
     "output_type": "stream",
     "text": [
      "Num facets:  3\n",
      "REJECT DICT:  {'upper_bound': 61, 'infeasible': 5, 'shared': 1}\n",
      "---Opening New Polytope---\n",
      "Lower bound is  0.06347768665325781\n"
     ]
    },
    {
     "name": "stderr",
     "output_type": "stream",
     "text": [
      "/Users/jordanm/.virtualenvs/myvenv/lib/python3.7/site-packages/scipy/optimize/_linprog_ip.py:1262: OptimizeWarning: Solving system with option 'sym_pos':True failed. It is normal for this to happen occasionally, especially as the solution is approached. However, if you see this frequently, consider setting option 'sym_pos' to False.\n",
      "  OptimizeWarning)\n",
      "/Users/jordanm/.virtualenvs/myvenv/lib/python3.7/site-packages/scipy/optimize/_linprog_ip.py:1274: OptimizeWarning: Solving system with option 'sym_pos':False failed. This may happen occasionally, especially as the solution is approached. However, if you see this frequently, your problem may be numerically challenging. If you cannot improve the formulation, consider setting 'lstsq' to True. Consider also setting `presolve` to True, if it is not already.\n",
      "  OptimizeWarning)\n",
      "/Users/jordanm/.virtualenvs/myvenv/lib/python3.7/site-packages/scipy/optimize/_linprog_ip.py:1048: RuntimeWarning: internal gelsd driver lwork query error, required iwork dimension not returned. This is likely the result of LAPACK bug 0038, fixed in LAPACK 3.2.2 (released July 21, 2010). Falling back to 'gelss' driver.\n",
      "  return sp.linalg.lstsq(M, r)[0]\n",
      "/Users/jordanm/.virtualenvs/myvenv/lib/python3.7/site-packages/scipy/optimize/_linprog_ip.py:1262: OptimizeWarning: Solving system with option 'sym_pos':True failed. It is normal for this to happen occasionally, especially as the solution is approached. However, if you see this frequently, consider setting option 'sym_pos' to False.\n",
      "  OptimizeWarning)\n",
      "/Users/jordanm/.virtualenvs/myvenv/lib/python3.7/site-packages/scipy/optimize/_linprog_ip.py:1274: OptimizeWarning: Solving system with option 'sym_pos':False failed. This may happen occasionally, especially as the solution is approached. However, if you see this frequently, your problem may be numerically challenging. If you cannot improve the formulation, consider setting 'lstsq' to True. Consider also setting `presolve` to True, if it is not already.\n",
      "  OptimizeWarning)\n",
      "/Users/jordanm/.virtualenvs/myvenv/lib/python3.7/site-packages/scipy/optimize/_linprog_ip.py:1048: RuntimeWarning: internal gelsd driver lwork query error, required iwork dimension not returned. This is likely the result of LAPACK bug 0038, fixed in LAPACK 3.2.2 (released July 21, 2010). Falling back to 'gelss' driver.\n",
      "  return sp.linalg.lstsq(M, r)[0]\n"
     ]
    },
    {
     "name": "stdout",
     "output_type": "stream",
     "text": [
      "Num facets:  2\n",
      "REJECT DICT:  {'upper_bound': 60, 'infeasible': 6, 'shared': 2}\n",
      "---Opening New Polytope---\n",
      "Lower bound is  0.06347802785361747\n",
      "We've already seen that polytope\n",
      "---Opening New Polytope---\n",
      "Lower bound is  0.08841012314558844\n",
      "Num facets:  1\n",
      "REJECT DICT:  {'upper_bound': 61, 'infeasible': 6, 'shared': 2}\n",
      "---Opening New Polytope---\n",
      "Lower bound is  0.08841022498766468\n",
      "We've already seen that polytope\n",
      "---Opening New Polytope---\n",
      "Lower bound is  0.09476198169474516\n",
      "Num facets:  3\n",
      "REJECT DICT:  {'upper_bound': 61, 'infeasible': 4, 'shared': 2}\n",
      "---Opening New Polytope---\n",
      "Lower bound is  0.0947620457352423\n",
      "We've already seen that polytope\n",
      "---Opening New Polytope---\n",
      "Lower bound is  0.0991147825114154\n"
     ]
    },
    {
     "name": "stderr",
     "output_type": "stream",
     "text": [
      "/Users/jordanm/.virtualenvs/myvenv/lib/python3.7/site-packages/scipy/optimize/_linprog_ip.py:1262: OptimizeWarning: Solving system with option 'sym_pos':True failed. It is normal for this to happen occasionally, especially as the solution is approached. However, if you see this frequently, consider setting option 'sym_pos' to False.\n",
      "  OptimizeWarning)\n",
      "/Users/jordanm/.virtualenvs/myvenv/lib/python3.7/site-packages/scipy/optimize/_linprog_ip.py:1274: OptimizeWarning: Solving system with option 'sym_pos':False failed. This may happen occasionally, especially as the solution is approached. However, if you see this frequently, your problem may be numerically challenging. If you cannot improve the formulation, consider setting 'lstsq' to True. Consider also setting `presolve` to True, if it is not already.\n",
      "  OptimizeWarning)\n",
      "/Users/jordanm/.virtualenvs/myvenv/lib/python3.7/site-packages/scipy/optimize/_linprog_ip.py:1048: RuntimeWarning: internal gelsd driver lwork query error, required iwork dimension not returned. This is likely the result of LAPACK bug 0038, fixed in LAPACK 3.2.2 (released July 21, 2010). Falling back to 'gelss' driver.\n",
      "  return sp.linalg.lstsq(M, r)[0]\n"
     ]
    },
    {
     "name": "stdout",
     "output_type": "stream",
     "text": [
      "Num facets:  3\n",
      "REJECT DICT:  {'upper_bound': 61, 'infeasible': 5, 'shared': 1}\n",
      "---Opening New Polytope---\n",
      "Lower bound is  0.10424548613591525\n"
     ]
    },
    {
     "name": "stderr",
     "output_type": "stream",
     "text": [
      "/Users/jordanm/.virtualenvs/myvenv/lib/python3.7/site-packages/scipy/optimize/_linprog_ip.py:1262: OptimizeWarning: Solving system with option 'sym_pos':True failed. It is normal for this to happen occasionally, especially as the solution is approached. However, if you see this frequently, consider setting option 'sym_pos' to False.\n",
      "  OptimizeWarning)\n",
      "/Users/jordanm/.virtualenvs/myvenv/lib/python3.7/site-packages/scipy/optimize/_linprog_ip.py:1274: OptimizeWarning: Solving system with option 'sym_pos':False failed. This may happen occasionally, especially as the solution is approached. However, if you see this frequently, your problem may be numerically challenging. If you cannot improve the formulation, consider setting 'lstsq' to True. Consider also setting `presolve` to True, if it is not already.\n",
      "  OptimizeWarning)\n",
      "/Users/jordanm/.virtualenvs/myvenv/lib/python3.7/site-packages/scipy/optimize/_linprog_ip.py:1048: RuntimeWarning: internal gelsd driver lwork query error, required iwork dimension not returned. This is likely the result of LAPACK bug 0038, fixed in LAPACK 3.2.2 (released July 21, 2010). Falling back to 'gelss' driver.\n",
      "  return sp.linalg.lstsq(M, r)[0]\n",
      "/Users/jordanm/.virtualenvs/myvenv/lib/python3.7/site-packages/scipy/optimize/_linprog_ip.py:1262: OptimizeWarning: Solving system with option 'sym_pos':True failed. It is normal for this to happen occasionally, especially as the solution is approached. However, if you see this frequently, consider setting option 'sym_pos' to False.\n",
      "  OptimizeWarning)\n",
      "/Users/jordanm/.virtualenvs/myvenv/lib/python3.7/site-packages/scipy/optimize/_linprog_ip.py:1274: OptimizeWarning: Solving system with option 'sym_pos':False failed. This may happen occasionally, especially as the solution is approached. However, if you see this frequently, your problem may be numerically challenging. If you cannot improve the formulation, consider setting 'lstsq' to True. Consider also setting `presolve` to True, if it is not already.\n",
      "  OptimizeWarning)\n",
      "/Users/jordanm/.virtualenvs/myvenv/lib/python3.7/site-packages/scipy/optimize/_linprog_ip.py:1048: RuntimeWarning: internal gelsd driver lwork query error, required iwork dimension not returned. This is likely the result of LAPACK bug 0038, fixed in LAPACK 3.2.2 (released July 21, 2010). Falling back to 'gelss' driver.\n",
      "  return sp.linalg.lstsq(M, r)[0]\n"
     ]
    },
    {
     "name": "stdout",
     "output_type": "stream",
     "text": [
      "Num facets:  1\n",
      "REJECT DICT:  {'upper_bound': 61, 'infeasible': 6, 'shared': 2}\n",
      "---Opening New Polytope---\n",
      "Lower bound is  0.10424548722318522\n",
      "We've already seen that polytope\n",
      "---Opening New Polytope---\n",
      "Lower bound is  0.10843122700912194\n"
     ]
    },
    {
     "name": "stderr",
     "output_type": "stream",
     "text": [
      "/Users/jordanm/.virtualenvs/myvenv/lib/python3.7/site-packages/scipy/optimize/_linprog_ip.py:1262: OptimizeWarning: Solving system with option 'sym_pos':True failed. It is normal for this to happen occasionally, especially as the solution is approached. However, if you see this frequently, consider setting option 'sym_pos' to False.\n",
      "  OptimizeWarning)\n",
      "/Users/jordanm/.virtualenvs/myvenv/lib/python3.7/site-packages/scipy/optimize/_linprog_ip.py:1274: OptimizeWarning: Solving system with option 'sym_pos':False failed. This may happen occasionally, especially as the solution is approached. However, if you see this frequently, your problem may be numerically challenging. If you cannot improve the formulation, consider setting 'lstsq' to True. Consider also setting `presolve` to True, if it is not already.\n",
      "  OptimizeWarning)\n",
      "/Users/jordanm/.virtualenvs/myvenv/lib/python3.7/site-packages/scipy/optimize/_linprog_ip.py:1048: RuntimeWarning: internal gelsd driver lwork query error, required iwork dimension not returned. This is likely the result of LAPACK bug 0038, fixed in LAPACK 3.2.2 (released July 21, 2010). Falling back to 'gelss' driver.\n",
      "  return sp.linalg.lstsq(M, r)[0]\n"
     ]
    },
    {
     "name": "stdout",
     "output_type": "stream",
     "text": [
      "Num facets:  0\n",
      "REJECT DICT:  {'upper_bound': 60, 'infeasible': 8, 'shared': 2}\n",
      "---Opening New Polytope---\n",
      "Lower bound is  0.10843142456935292\n",
      "We've already seen that polytope\n",
      "---Opening New Polytope---\n",
      "Lower bound is  0.11538563574182992\n"
     ]
    },
    {
     "name": "stderr",
     "output_type": "stream",
     "text": [
      "/Users/jordanm/.virtualenvs/myvenv/lib/python3.7/site-packages/scipy/optimize/_linprog_ip.py:1262: OptimizeWarning: Solving system with option 'sym_pos':True failed. It is normal for this to happen occasionally, especially as the solution is approached. However, if you see this frequently, consider setting option 'sym_pos' to False.\n",
      "  OptimizeWarning)\n",
      "/Users/jordanm/.virtualenvs/myvenv/lib/python3.7/site-packages/scipy/optimize/_linprog_ip.py:1274: OptimizeWarning: Solving system with option 'sym_pos':False failed. This may happen occasionally, especially as the solution is approached. However, if you see this frequently, your problem may be numerically challenging. If you cannot improve the formulation, consider setting 'lstsq' to True. Consider also setting `presolve` to True, if it is not already.\n",
      "  OptimizeWarning)\n",
      "/Users/jordanm/.virtualenvs/myvenv/lib/python3.7/site-packages/scipy/optimize/_linprog_ip.py:1048: RuntimeWarning: internal gelsd driver lwork query error, required iwork dimension not returned. This is likely the result of LAPACK bug 0038, fixed in LAPACK 3.2.2 (released July 21, 2010). Falling back to 'gelss' driver.\n",
      "  return sp.linalg.lstsq(M, r)[0]\n"
     ]
    },
    {
     "name": "stdout",
     "output_type": "stream",
     "text": [
      "Num facets:  2\n",
      "REJECT DICT:  {'upper_bound': 61, 'infeasible': 6, 'shared': 1}\n",
      "---Opening New Polytope---\n",
      "Lower bound is  0.13500693978886444\n"
     ]
    },
    {
     "name": "stderr",
     "output_type": "stream",
     "text": [
      "/Users/jordanm/.virtualenvs/myvenv/lib/python3.7/site-packages/scipy/optimize/_linprog_ip.py:1262: OptimizeWarning: Solving system with option 'sym_pos':True failed. It is normal for this to happen occasionally, especially as the solution is approached. However, if you see this frequently, consider setting option 'sym_pos' to False.\n",
      "  OptimizeWarning)\n",
      "/Users/jordanm/.virtualenvs/myvenv/lib/python3.7/site-packages/scipy/optimize/_linprog_ip.py:1274: OptimizeWarning: Solving system with option 'sym_pos':False failed. This may happen occasionally, especially as the solution is approached. However, if you see this frequently, your problem may be numerically challenging. If you cannot improve the formulation, consider setting 'lstsq' to True. Consider also setting `presolve` to True, if it is not already.\n",
      "  OptimizeWarning)\n",
      "/Users/jordanm/.virtualenvs/myvenv/lib/python3.7/site-packages/scipy/optimize/_linprog_ip.py:1048: RuntimeWarning: internal gelsd driver lwork query error, required iwork dimension not returned. This is likely the result of LAPACK bug 0038, fixed in LAPACK 3.2.2 (released July 21, 2010). Falling back to 'gelss' driver.\n",
      "  return sp.linalg.lstsq(M, r)[0]\n"
     ]
    },
    {
     "name": "stdout",
     "output_type": "stream",
     "text": [
      "Num facets:  1\n",
      "REJECT DICT:  {'upper_bound': 61, 'infeasible': 7, 'shared': 1}\n",
      "---Opening New Polytope---\n",
      "Lower bound is  0.14006350572560897\n"
     ]
    },
    {
     "name": "stderr",
     "output_type": "stream",
     "text": [
      "/Users/jordanm/.virtualenvs/myvenv/lib/python3.7/site-packages/scipy/optimize/_linprog_ip.py:1262: OptimizeWarning: Solving system with option 'sym_pos':True failed. It is normal for this to happen occasionally, especially as the solution is approached. However, if you see this frequently, consider setting option 'sym_pos' to False.\n",
      "  OptimizeWarning)\n",
      "/Users/jordanm/.virtualenvs/myvenv/lib/python3.7/site-packages/scipy/optimize/_linprog_ip.py:1274: OptimizeWarning: Solving system with option 'sym_pos':False failed. This may happen occasionally, especially as the solution is approached. However, if you see this frequently, your problem may be numerically challenging. If you cannot improve the formulation, consider setting 'lstsq' to True. Consider also setting `presolve` to True, if it is not already.\n",
      "  OptimizeWarning)\n",
      "/Users/jordanm/.virtualenvs/myvenv/lib/python3.7/site-packages/scipy/optimize/_linprog_ip.py:1048: RuntimeWarning: internal gelsd driver lwork query error, required iwork dimension not returned. This is likely the result of LAPACK bug 0038, fixed in LAPACK 3.2.2 (released July 21, 2010). Falling back to 'gelss' driver.\n",
      "  return sp.linalg.lstsq(M, r)[0]\n"
     ]
    },
    {
     "name": "stdout",
     "output_type": "stream",
     "text": [
      "Num facets:  1\n",
      "REJECT DICT:  {'upper_bound': 61, 'infeasible': 6, 'shared': 2}\n",
      "---Opening New Polytope---\n",
      "Lower bound is  0.14006352792609691\n",
      "We've already seen that polytope\n",
      "---Opening New Polytope---\n",
      "Lower bound is  0.14848538321974486\n"
     ]
    },
    {
     "name": "stderr",
     "output_type": "stream",
     "text": [
      "/Users/jordanm/.virtualenvs/myvenv/lib/python3.7/site-packages/scipy/optimize/_linprog_ip.py:1262: OptimizeWarning: Solving system with option 'sym_pos':True failed. It is normal for this to happen occasionally, especially as the solution is approached. However, if you see this frequently, consider setting option 'sym_pos' to False.\n",
      "  OptimizeWarning)\n",
      "/Users/jordanm/.virtualenvs/myvenv/lib/python3.7/site-packages/scipy/optimize/_linprog_ip.py:1274: OptimizeWarning: Solving system with option 'sym_pos':False failed. This may happen occasionally, especially as the solution is approached. However, if you see this frequently, your problem may be numerically challenging. If you cannot improve the formulation, consider setting 'lstsq' to True. Consider also setting `presolve` to True, if it is not already.\n",
      "  OptimizeWarning)\n",
      "/Users/jordanm/.virtualenvs/myvenv/lib/python3.7/site-packages/scipy/optimize/_linprog_ip.py:1048: RuntimeWarning: internal gelsd driver lwork query error, required iwork dimension not returned. This is likely the result of LAPACK bug 0038, fixed in LAPACK 3.2.2 (released July 21, 2010). Falling back to 'gelss' driver.\n",
      "  return sp.linalg.lstsq(M, r)[0]\n"
     ]
    },
    {
     "name": "stdout",
     "output_type": "stream",
     "text": [
      "Num facets:  0\n",
      "REJECT DICT:  {'upper_bound': 61, 'shared': 2, 'infeasible': 7}\n",
      "---Opening New Polytope---\n",
      "Lower bound is  0.14848552108048696\n",
      "We've already seen that polytope\n",
      "----------Minimal Projection Generated----------\n",
      "DIST:  0.18850237577774312\n"
     ]
    }
   ],
   "source": [
    "%lprun -f Polytope.generate_facets_configs_parallel geocert.min_dist(test_point.view(-1, 1), compute_upper_bound=True)\n"
   ]
  },
  {
   "cell_type": "code",
   "execution_count": 5,
   "metadata": {},
   "outputs": [
    {
     "name": "stdout",
     "output_type": "stream",
     "text": [
      "UNBOUNDED INTERIOR POINT: 4 2 [ 0.  0. -1.] [2.23606e+09 1.62982e+09 1.99857e+09]\n"
     ]
    },
    {
     "data": {
      "text/plain": [
       "array([2.23606e+09, 1.62982e+09])"
      ]
     },
     "execution_count": 5,
     "metadata": {},
     "output_type": "execute_result"
    }
   ],
   "source": [
    "uba = np.array([[-1.15312, -0.90686],\n",
    "                [-1.14678, -0.90665],\n",
    "                [-1.14872, -0.90603],\n",
    "                [-1.15559, -0.89766]])\n",
    "ubb = np.array([-1., -1., -1., -1.])\n",
    "\n",
    "p = Polytope(uba, ubb)\n",
    "p._interior_point()\n",
    "p.interior_point"
   ]
  },
  {
   "cell_type": "code",
   "execution_count": 6,
   "metadata": {},
   "outputs": [],
   "source": [
    "import time\n",
    "def timeit(inputs):\n",
    "    # Keeps track of a list of triples: (CW bound, Real bound, time to run)\n",
    "    outputs = []\n",
    "    for input_point in inputs:\n",
    "        try:\n",
    "            start = time.time() \n",
    "            real, cw = geocert.min_dist(input_point, compute_upper_bound=True)\n",
    "            end = time.time() \n",
    "            outputs.append((cw, real, end - start))\n",
    "        except Exception as err:\n",
    "            print(err)\n",
    "            pass \n",
    "    return outputs\n",
    "        \n"
   ]
  },
  {
   "cell_type": "code",
   "execution_count": null,
   "metadata": {},
   "outputs": [],
   "source": [
    "geo.IncrementalGeoCert"
   ]
  },
  {
   "cell_type": "code",
   "execution_count": null,
   "metadata": {},
   "outputs": [],
   "source": []
  }
 ],
 "metadata": {
  "kernelspec": {
   "display_name": "py3",
   "language": "python",
   "name": "py3"
  },
  "language_info": {
   "codemirror_mode": {
    "name": "ipython",
    "version": 3
   },
   "file_extension": ".py",
   "mimetype": "text/x-python",
   "name": "python",
   "nbconvert_exporter": "python",
   "pygments_lexer": "ipython3",
   "version": "3.7.2"
  }
 },
 "nbformat": 4,
 "nbformat_minor": 2
}
