{
 "cells": [
  {
   "cell_type": "code",
   "execution_count": null,
   "metadata": {},
   "outputs": [],
   "source": [
    "# ==================================\n",
    "# Experiment 4\n",
    "# ==================================\n",
    "\n",
    "# estimate the number of encountered polytopes when varying the neural\n",
    "# network architecture / capacity. Again, classifier trained on random\n",
    "# data in R^2"
   ]
  },
  {
   "cell_type": "code",
   "execution_count": 1,
   "metadata": {},
   "outputs": [
    {
     "name": "stderr",
     "output_type": "stream",
     "text": [
      "/home/justin/Programs/anaconda3/envs/DeepL/lib/python3.6/site-packages/matplotlib/cbook/deprecation.py:107: MatplotlibDeprecationWarning: Adding an axes using the same arguments as a previous axes currently reuses the earlier instance.  In a future version, a new instance will always be created and returned.  Meanwhile, this warning can be suppressed, and the future behavior ensured, by passing a unique label to each axes instance.\n",
      "  warnings.warn(message, mplDeprecation, stacklevel=1)\n"
     ]
    }
   ],
   "source": [
    "import numpy as np\n",
    "from plnn import PLNN\n",
    "import torch\n",
    "import torch.nn as nn\n",
    "import torch.optim as optim\n",
    "from torch.autograd import Variable\n",
    "import utilities as utils\n",
    "import matplotlib.pyplot as plt\n"
   ]
  },
  {
   "cell_type": "code",
   "execution_count": 2,
   "metadata": {},
   "outputs": [
    {
     "name": "stdout",
     "output_type": "stream",
     "text": [
      "===============Generating Training Points============\n"
     ]
    }
   ],
   "source": [
    "\n",
    "# ==================================\n",
    "# Generate Training Points\n",
    "# ==================================\n",
    "\n",
    "print('===============Generating Training Points============')\n",
    "# random points at least 2r apart\n",
    "m = 12\n",
    "np.random.seed(3)\n",
    "x = [np.random.uniform(size=(2))]\n",
    "r = 0.16\n",
    "while(len(x) < m):\n",
    "    p = np.random.uniform(size=(2))\n",
    "    if min(np.abs(p-a).sum() for a in x) > 2*r:\n",
    "        x.append(p)\n",
    "# r = 0.145\n",
    "epsilon = r/2\n",
    "\n",
    "X = torch.Tensor(np.array(x))\n",
    "torch.manual_seed(1)\n",
    "y = (torch.rand(m)+0.5).long()\n",
    "\n"
   ]
  },
  {
   "cell_type": "code",
   "execution_count": 3,
   "metadata": {},
   "outputs": [
    {
     "name": "stdout",
     "output_type": "stream",
     "text": [
      "===============Initializing Network============\n",
      "Sequential(\n",
      "  (1): Linear(in_features=2, out_features=6, bias=True)\n",
      "  (2): ReLU()\n",
      "  (3): Linear(in_features=6, out_features=6, bias=True)\n",
      "  (4): ReLU()\n",
      "  (5): Linear(in_features=6, out_features=6, bias=True)\n",
      "  (6): ReLU()\n",
      "  (7): Linear(in_features=6, out_features=6, bias=True)\n",
      "  (8): ReLU()\n",
      "  (9): Linear(in_features=6, out_features=2, bias=True)\n",
      ")\n",
      "===============Training Network============\n",
      "error:  tensor(0.2500)\n",
      "===============Gathering Polytopes============\n"
     ]
    },
    {
     "name": "stderr",
     "output_type": "stream",
     "text": [
      "/home/justin/Programs/anaconda3/envs/DeepL/lib/python3.6/site-packages/torch/tensor.py:255: UserWarning: non-inplace resize is deprecated\n",
      "  warnings.warn(\"non-inplace resize is deprecated\")\n"
     ]
    },
    {
     "name": "stdout",
     "output_type": "stream",
     "text": [
      "number of polytopes: 26\n",
      "===============Initializing Network============\n",
      "Sequential(\n",
      "  (1): Linear(in_features=2, out_features=100, bias=True)\n",
      "  (2): ReLU()\n",
      "  (3): Linear(in_features=100, out_features=100, bias=True)\n",
      "  (4): ReLU()\n",
      "  (5): Linear(in_features=100, out_features=100, bias=True)\n",
      "  (6): ReLU()\n",
      "  (7): Linear(in_features=100, out_features=100, bias=True)\n",
      "  (8): ReLU()\n",
      "  (9): Linear(in_features=100, out_features=2, bias=True)\n",
      ")\n",
      "===============Training Network============\n",
      "error:  tensor(0.)\n",
      "===============Gathering Polytopes============\n",
      "number of polytopes: 4430\n"
     ]
    },
    {
     "data": {
      "image/png": "[encoded data removed]",
      "text/plain": [
       "<Figure size 576x576 with 1 Axes>"
      ]
     },
     "metadata": {},
     "output_type": "display_data"
    },
    {
     "data": {
      "image/png": "[encoded data removed]",
      "text/plain": [
       "<Figure size 576x576 with 1 Axes>"
      ]
     },
     "metadata": {},
     "output_type": "display_data"
    }
   ],
   "source": [
    "# ===========================================\n",
    "# Estimate Polytope Density as Net Width Increases \n",
    "# ===========================================\n",
    "widths = [int(elem) for elem in np.linspace(6, 100, 15)]\n",
    "errs = []\n",
    "unique_polytopes = []\n",
    "\n",
    "for width in widths:\n",
    "    layer_sizes = [2] + [width for _ in range(0, 4)] + [2]\n",
    "\n",
    "    # ==================================\n",
    "    # Initialize Network\n",
    "    # ==================================\n",
    "    \n",
    "    print('===============Initializing Network============')\n",
    "    network = PLNN(layer_sizes)\n",
    "    net = network.net\n",
    "    \n",
    "    # ==================================\n",
    "    # Train Network\n",
    "    # ==================================\n",
    "    \n",
    "    print('===============Training Network============')\n",
    "    opt = optim.Adam(net.parameters(), lr=1e-3)\n",
    "    for i in range(1000):\n",
    "        out = net(Variable(X))\n",
    "        l = nn.CrossEntropyLoss()(out, Variable(y))\n",
    "        err = (out.max(1)[1].data != y).float().mean()\n",
    "        opt.zero_grad()\n",
    "        (l).backward()\n",
    "        opt.step()\n",
    "    errs.append(err)\n",
    "    print('error: ', err)\n",
    "    \n",
    "    # ==================================\n",
    "    # Visualize: baseline classifier boundary\n",
    "    # ==================================\n",
    "\n",
    "    XX, YY = np.meshgrid(np.linspace(0, 1, 100), np.linspace(0, 1, 100))\n",
    "    X0 = Variable(torch.Tensor(np.stack([np.ravel(XX), np.ravel(YY)]).T))\n",
    "    y0 = network(X0)\n",
    "    ZZ = (y0[:,0] - y0[:,1]).resize(100, 100).data.numpy()\n",
    "\n",
    "    _, ax = plt.subplots(figsize=(8,8))\n",
    "    ax.contourf(XX,YY,-ZZ, cmap=\"coolwarm\", levels=np.linspace(-1000,1000,3))\n",
    "    ax.scatter(X.numpy()[:,0], X.numpy()[:,1], c=y.numpy(), cmap=\"coolwarm\", s=70)\n",
    "    ax.axis(\"equal\")\n",
    "    ax.axis([0, 1, 0, 1])\n",
    "    \n",
    "    # ==================================\n",
    "    # Gather Polytopes\n",
    "    # ==================================\n",
    "    print('===============Gathering Polytopes============')\n",
    "    num_pts = 350\n",
    "    xylim = 1.0\n",
    "    \n",
    "    unique_relu_configs_list, unique_bin_acts, _, _ = utils.get_unique_relu_configs(network, xylim, num_pts)\n",
    "    unique_polytopes.append(len(unique_bin_acts))\n",
    "    print('number of polytopes:', len(unique_bin_acts))\n"
   ]
  },
  {
   "cell_type": "code",
   "execution_count": 5,
   "metadata": {},
   "outputs": [
    {
     "data": {
      "image/png": "[encoded data removed]",
      "text/plain": [
       "<Figure size 432x288 with 1 Axes>"
      ]
     },
     "metadata": {},
     "output_type": "display_data"
    }
   ],
   "source": [
    "# ==================================\n",
    "# Plot Results\n",
    "# ==================================\n",
    "\n",
    "xs = widths\n",
    "ys = unique_polytopes\n",
    "\n",
    "plt.figure()\n",
    "plt.plot(xs,ys)\n",
    "plt.plot(np.unique(xs), np.poly1d(np.polyfit(xs, ys, 1))(np.unique(xs)))\n",
    "plt.xlabel('Network Width')\n",
    "plt.ylabel('Num Unique Polytopes')\n",
    "\n",
    "import os\n",
    "cwd = os.getcwd()\n",
    "plot_dir = cwd + '/plots/'\n",
    "filename = plot_dir + 'width_experiment' + '.svg'\n",
    "plt.savefig(filename)"
   ]
  },
  {
   "cell_type": "code",
   "execution_count": null,
   "metadata": {},
   "outputs": [],
   "source": [
    "plt.plot(xs,errs[0:-1])"
   ]
  },
  {
   "cell_type": "code",
   "execution_count": null,
   "metadata": {},
   "outputs": [],
   "source": []
  }
 ],
 "metadata": {
  "kernelspec": {
   "display_name": "Python (DeepL)",
   "language": "python",
   "name": "deepl"
  },
  "language_info": {
   "codemirror_mode": {
    "name": "ipython",
    "version": 3
   },
   "file_extension": ".py",
   "mimetype": "text/x-python",
   "name": "python",
   "nbconvert_exporter": "python",
   "pygments_lexer": "ipython3",
   "version": "3.6.8"
  }
 },
 "nbformat": 4,
 "nbformat_minor": 1
}
