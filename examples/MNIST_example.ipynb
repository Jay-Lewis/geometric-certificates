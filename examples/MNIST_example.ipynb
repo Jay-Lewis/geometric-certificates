{
 "cells": [
  {
   "cell_type": "markdown",
   "metadata": {},
   "source": [
    "# GeoCert : Binary MNIST Example\n",
    "In this example, we'll train a neural network to distinguish between 1s and 7s and run GeoCert on it"
   ]
  },
  {
   "cell_type": "code",
   "execution_count": 1,
   "metadata": {},
   "outputs": [],
   "source": [
    "# =====================\n",
    "# Imports\n",
    "# =====================\n",
    "import sys\n",
    "sys.path.append('..')\n",
    "sys.path.append('../mister_ed') # library for adversarial examples\n",
    "\n",
    "from geocert import GeoCert\n",
    "from plnn import PLNN\n",
    "import pickle\n",
    "import matplotlib.pyplot as plt\n",
    "import numpy as np\n",
    "import torch\n",
    "import torch.nn as nn\n",
    "import torch.optim as optim\n",
    "from torch.autograd import Variable\n",
    "from torchvision import datasets, transforms\n",
    "import mnist.mnist_loader as  ml \n"
   ]
  },
  {
   "cell_type": "markdown",
   "metadata": {},
   "source": [
    "# Step 1: Train a model\n",
    "What follows is a block to \n",
    "1. Load MNIST 1's and 7's \n",
    "2. Define some boilerplate training code and standard regularizers\n",
    "3. Try to load a pretrained model. If no such model exists, train a model and save it so we can load it next time"
   ]
  },
  {
   "cell_type": "code",
   "execution_count": 2,
   "metadata": {},
   "outputs": [],
   "source": [
    "# Load valset \n",
    "valset = ml.load_single_digits('val', [1, 7], batch_size=16, shuffle=False)        "
   ]
  },
  {
   "cell_type": "code",
   "execution_count": 3,
   "metadata": {},
   "outputs": [],
   "source": [
    "##################################################################################\n",
    "#                                                                                #\n",
    "#                       Network Model + Data Loading                             #\n",
    "#                                                                                #\n",
    "##################################################################################\n",
    "\n",
    "# Define functions to train and evaluate a network \n",
    "\n",
    "def l1_loss(net):\n",
    "    return sum([_.norm(p=1) for _ in net.parameters() if _.dim() > 1])\n",
    "\n",
    "def l2_loss(net):\n",
    "    return sum([_.norm(p=2) for _ in net.parameters() if _.dim() > 1])\n",
    "  \n",
    "    \n",
    "def train(net, trainset, num_epochs):\n",
    "    opt = optim.Adam(net.parameters(), lr=1e-3, weight_decay=0)\n",
    "    for epoch in range(num_epochs):\n",
    "        err_acc = 0\n",
    "        err_count = 0\n",
    "        for data, labels in trainset:\n",
    "            output = net(Variable(data.view(-1, 784)))\n",
    "            l = nn.CrossEntropyLoss()(output, Variable(labels)).view([1])\n",
    "            l1_scale = torch.Tensor([1e-3]) # L1 regularization for speed\n",
    "            l += l1_scale * l1_loss(net).view([1])\n",
    "            \n",
    "            err_acc += (output.max(1)[1].data != labels).float().mean() \n",
    "            err_count += 1\n",
    "            opt.zero_grad() \n",
    "            (l).backward() \n",
    "            opt.step() \n",
    "        print(\"(%02d) error:\" % epoch, err_acc / err_count)\n",
    "            \n",
    "        \n",
    "def test_acc(net, valset):\n",
    "    err_acc = 0 \n",
    "    err_count = 0 \n",
    "    for data, labels in valset:\n",
    "        n = data.shape[0]\n",
    "        output = net(Variable(data.view(-1, 784)))\n",
    "        err_acc += (output.max(1)[1].data != labels).float().mean() * n\n",
    "        err_count += n\n",
    "        \n",
    "    print(\"Accuracy of: %.03f\" % (1 - (err_acc / err_count).item()))"
   ]
  },
  {
   "cell_type": "code",
   "execution_count": 4,
   "metadata": {},
   "outputs": [
    {
     "name": "stdout",
     "output_type": "stream",
     "text": [
      "Training a new network\n",
      "[784, 10, 50, 10, 2]\n",
      "(00) error: tensor(0.0305)\n",
      "(01) error: tensor(0.0076)\n",
      "(02) error: tensor(0.0064)\n",
      "(03) error: tensor(0.0054)\n",
      "(04) error: tensor(0.0052)\n",
      "(05) error: tensor(0.0052)\n",
      "(06) error: tensor(0.0047)\n",
      "(07) error: tensor(0.0043)\n",
      "(08) error: tensor(0.0043)\n",
      "(09) error: tensor(0.0040)\n",
      "Accuracy of: 0.992\n"
     ]
    }
   ],
   "source": [
    "NETWORK_NAME = '17_mnist_small.pkl'\n",
    "MNIST_DIM = 784\n",
    "layer_sizes = [MNIST_DIM, 10, 50, 10, 2]\n",
    "\n",
    "try: \n",
    "    network = pickle.load(open(NETWORK_NAME, 'rb'))\n",
    "    net = network.net\n",
    "    print(\"Loaded pretrained network\")\n",
    "except:\n",
    "    print(\"Training a new network\")\n",
    "    trainset = ml.load_single_digits('train', [1, 7], batch_size=16, shuffle=False)  \n",
    "    network = PLNN([MNIST_DIM, 10, 50, 10, 2])\n",
    "    net = network.net\n",
    "    train(net, trainset, 10)\n",
    "    pickle.dump(network, open(NETWORK_NAME, 'wb'))\n",
    "    \n",
    "test_acc(net, valset)    "
   ]
  },
  {
   "cell_type": "markdown",
   "metadata": {},
   "source": [
    "# Step 2: Run GeoCert \n",
    "We'll now demonstrate basic GeoCert usage..."
   ]
  },
  {
   "cell_type": "code",
   "execution_count": 5,
   "metadata": {},
   "outputs": [],
   "source": [
    "# First make the GeoCert object \n",
    "geo = GeoCert(network, hyperbox_bounds=(0.0, 1.0),\n",
    "                      verbose=True, neuron_bounds='ia')"
   ]
  },
  {
   "cell_type": "code",
   "execution_count": 6,
   "metadata": {},
   "outputs": [],
   "source": [
    "# And pick an example image \n",
    "example_image = valset[0][0][0]\n"
   ]
  },
  {
   "cell_type": "code",
   "execution_count": 7,
   "metadata": {},
   "outputs": [
    {
     "name": "stdout",
     "output_type": "stream",
     "text": [
      "Starting upper bound computation\n",
      "Upper bound of 0.48637357354164124 in 5.75 seconds\n",
      "---Initial Polytope---\n",
      "Academic license - for non-commercial use only\n",
      "(p0) Popped: 0.109737  | 0.486374\n",
      "(p0) Popped: 0.119779  | 0.486374\n",
      "(p0) Popped: 0.160164  | 0.486374\n",
      "(p0) Popped: 0.164347  | 0.486374\n",
      "(p0) Popped: 0.164703  | 0.486374\n",
      "(p0) Popped: 0.165997  | 0.486374\n",
      "(p0) Popped: 0.175892  | 0.486374\n",
      "-------------------- DOMAIN UPDATE | L_inf 0.251913 | L_2 5.462510\n",
      "(p0) Popped: 0.180657  | 0.251913\n",
      "(p0) Popped: 0.184537  | 0.251913\n",
      "(p0) Popped: 0.198900  | 0.251913\n",
      "(p0) Popped: 0.203945  | 0.251913\n",
      "(p0) Popped: 0.204625  | 0.251913\n",
      "(p0) Popped: 0.205135  | 0.251913\n",
      "(p0) Popped: 0.212172  | 0.251913\n",
      "(p0) Popped: 0.213016  | 0.251913\n",
      "(p0) Popped: 0.213419  | 0.251913\n",
      "(p0) Popped: 0.213896  | 0.251913\n",
      "(p0) Popped: 0.216059  | 0.251913\n",
      "(p0) Popped: 0.217895  | 0.251913\n",
      "(p0) Popped: 0.226287  | 0.251913\n",
      "(p0) Popped: 0.236035  | 0.251913\n",
      "GeoCert Return Object\n",
      "\tProblem Type: min_dist\n",
      "\tStatus: SUCCESS\n",
      "\tRobustness: 0.2519\n"
     ]
    }
   ],
   "source": [
    "# And then run geocert \n",
    "example_output = geo.run(example_image, compute_upper_bound=True, \n",
    "                             lp_norm='l_inf', problem_type='min_dist')\n",
    "print(example_output)"
   ]
  },
  {
   "cell_type": "code",
   "execution_count": 8,
   "metadata": {},
   "outputs": [
    {
     "name": "stdout",
     "output_type": "stream",
     "text": [
      "Decision bound value:  tensor([[0.1439, 0.1439]], grad_fn=<AddmmBackward>)\n"
     ]
    }
   ],
   "source": [
    "# The return object can be interacted upon like ...\n",
    "best_adv_ex = torch.Tensor(example_output.best_ex)\n",
    "print(\"Decision bound value: \", network(best_adv_ex))\n",
    "\n"
   ]
  },
  {
   "cell_type": "code",
   "execution_count": 9,
   "metadata": {},
   "outputs": [
    {
     "data": {
      "image/png": "[encoded data removed]",
      "text/plain": [
       "<Figure size 960x960 with 1 Axes>"
      ]
     },
     "metadata": {},
     "output_type": "display_data"
    },
    {
     "data": {
      "image/png": "[encoded data removed]",
      "text/plain": [
       "<Figure size 960x960 with 1 Axes>"
      ]
     },
     "metadata": {},
     "output_type": "display_data"
    }
   ],
   "source": [
    "# And there's an easy shorthand to display these images: \n",
    "example_output.display_images(include_diffs=False) \n",
    "example_output.display_images(include_diffs=True) # Easy way to show diffs between original and adv. ex\n"
   ]
  },
  {
   "cell_type": "code",
   "execution_count": 11,
   "metadata": {},
   "outputs": [
    {
     "name": "stdout",
     "output_type": "stream",
     "text": [
      "---Initial Polytope---\n",
      "(p0) Popped: 0.015449  | 4.000000\n",
      "(p0) Popped: 0.016587  | 4.000000\n",
      "(p0) Popped: 1.286739  | 4.000000\n",
      "(p0) Popped: 1.313097  | 4.000000\n",
      "(p0) Popped: 1.363232  | 4.000000\n",
      "(p0) Popped: 1.365227  | 4.000000\n",
      "(p0) Popped: 1.391826  | 4.000000\n",
      "(p0) Popped: 1.437648  | 4.000000\n",
      "(p0) Popped: 1.963248  | 4.000000\n",
      "(p0) Popped: 2.173057  | 4.000000\n",
      "(p0) Popped: 2.820217  | 4.000000\n",
      "(p0) Popped: 2.820216  | 4.000000\n",
      "(p0) Popped: 2.820221  | 4.000000\n",
      "(p0) Popped: 2.997484  | 4.000000\n",
      "(p0) Popped: 3.003162  | 4.000000\n",
      "(p0) Popped: 3.016613  | 4.000000\n",
      "(p0) Popped: 3.017497  | 4.000000\n",
      "(p0) Popped: 3.024027  | 4.000000\n",
      "(p0) Popped: 3.036220  | 4.000000\n",
      "(p0) Popped: 3.237544  | 4.000000\n",
      "(p0) Popped: 3.833163  | 4.000000\n",
      "GeoCert Return Object\n",
      "\tProblem Type: decision_problem\n",
      "\tStatus: SUCCESS\n",
      "\tRadius 4.00\n",
      "\n"
     ]
    }
   ],
   "source": [
    "# And we can also run the decision problem...\n",
    "example_2 = valset[0][0][1]\n",
    "example_2_output = geo.run(example_2, lp_norm='l_2', problem_type='decision_problem', \n",
    "                               decision_radius=4.0)\n",
    "print(example_2_output)\n",
    "# Recall that 'SUCCESS' status means an adversarial example DOES exist w/in the radius"
   ]
  },
  {
   "cell_type": "code",
   "execution_count": 12,
   "metadata": {},
   "outputs": [
    {
     "name": "stdout",
     "output_type": "stream",
     "text": [
      "---Initial Polytope---\n",
      "(p0) Popped: 0.055832  | 1.000000\n",
      "(p0) Popped: 0.056154  | 1.000000\n",
      "(p0) Popped: 0.133925  | 1.000000\n",
      "(p0) Popped: 0.133925  | 1.000000\n",
      "(p0) Popped: 0.144106  | 1.000000\n",
      "(p0) Popped: 0.150180  | 1.000000\n",
      "(p0) Popped: 0.150180  | 1.000000\n",
      "(p0) Popped: 0.157653  | 1.000000\n",
      "(p0) Popped: 0.158780  | 1.000000\n",
      "(p0) Popped: 0.170858  | 1.000000\n",
      "(p0) Popped: 0.175962  | 1.000000\n",
      "(p0) Popped: 0.182197  | 1.000000\n",
      "(p0) Popped: 0.182393  | 1.000000\n",
      "(p0) Popped: 0.182714  | 1.000000\n",
      "(p0) Popped: 0.184272  | 1.000000\n",
      "(p0) Popped: 0.185871  | 1.000000\n",
      "(p0) Popped: 0.185899  | 1.000000\n",
      "(p0) Popped: 0.189254  | 1.000000\n",
      "(p0) Popped: 0.189254  | 1.000000\n",
      "(p0) Popped: 0.190690  | 1.000000\n",
      "(p0) Popped: 0.192021  | 1.000000\n",
      "(p0) Popped: 0.192021  | 1.000000\n",
      "(p0) Popped: 0.194611  | 1.000000\n",
      "(p0) Popped: 0.206525  | 1.000000\n",
      "(p0) Popped: 0.212611  | 1.000000\n",
      "(p0) Popped: 0.215649  | 1.000000\n",
      "(p0) Popped: 0.216742  | 1.000000\n",
      "(p0) Popped: 0.218444  | 1.000000\n",
      "(p0) Popped: 0.219127  | 1.000000\n",
      "(p0) Popped: 0.220038  | 1.000000\n",
      "(p0) Popped: 0.220538  | 1.000000\n",
      "(p0) Popped: 0.235952  | 1.000000\n",
      "(p0) Popped: 0.238375  | 1.000000\n",
      "(p0) Popped: 0.248345  | 1.000000\n",
      "(p0) Popped: 0.255292  | 1.000000\n",
      "(p0) Popped: 0.386507  | 1.000000\n",
      "(p0) Popped: 0.388677  | 1.000000\n",
      "(p0) Popped: 0.458700  | 1.000000\n",
      "(p0) Popped: 0.460673  | 1.000000\n",
      "(p0) Popped: 0.466731  | 1.000000\n",
      "(p0) Popped: 0.468369  | 1.000000\n",
      "(p0) Popped: 0.602741  | 1.000000\n",
      "(p0) Popped: 0.604280  | 1.000000\n",
      "(p0) Popped: 0.604815  | 1.000000\n",
      "(p0) Popped: 0.605080  | 1.000000\n",
      "(p0) Popped: 0.605228  | 1.000000\n",
      "(p0) Popped: 0.605373  | 1.000000\n",
      "(p0) Popped: 0.605647  | 1.000000\n",
      "(p0) Popped: 0.606417  | 1.000000\n",
      "(p0) Popped: 0.606728  | 1.000000\n",
      "(p0) Popped: 0.607238  | 1.000000\n",
      "(p0) Popped: 0.607255  | 1.000000\n",
      "(p0) Popped: 0.608136  | 1.000000\n",
      "(p0) Popped: 0.608136  | 1.000000\n",
      "(p0) Popped: 0.608190  | 1.000000\n",
      "(p0) Popped: 0.608257  | 1.000000\n",
      "(p0) Popped: 0.608257  | 1.000000\n",
      "(p0) Popped: 0.608299  | 1.000000\n",
      "(p0) Popped: 0.610950  | 1.000000\n",
      "(p0) Popped: 0.612634  | 1.000000\n",
      "(p0) Popped: 0.613130  | 1.000000\n",
      "(p0) Popped: 0.616051  | 1.000000\n",
      "(p0) Popped: 0.619585  | 1.000000\n",
      "(p0) Popped: 0.620696  | 1.000000\n",
      "(p0) Popped: 0.621311  | 1.000000\n",
      "(p0) Popped: 0.623362  | 1.000000\n",
      "(p0) Popped: 0.624005  | 1.000000\n",
      "(p0) Popped: 0.624332  | 1.000000\n",
      "(p0) Popped: 0.624511  | 1.000000\n",
      "(p0) Popped: 0.624736  | 1.000000\n",
      "(p0) Popped: 0.625007  | 1.000000\n",
      "(p0) Popped: 0.625189  | 1.000000\n",
      "(p0) Popped: 0.625203  | 1.000000\n",
      "(p0) Popped: 0.626383  | 1.000000\n",
      "(p0) Popped: 0.626706  | 1.000000\n",
      "(p0) Popped: 0.626936  | 1.000000\n",
      "(p0) Popped: 0.626936  | 1.000000\n",
      "(p0) Popped: 0.627066  | 1.000000\n",
      "(p0) Popped: 0.627180  | 1.000000\n",
      "(p0) Popped: 0.627180  | 1.000000\n",
      "(p0) Popped: 0.627287  | 1.000000\n",
      "(p0) Popped: 0.630318  | 1.000000\n",
      "(p0) Popped: 0.634123  | 1.000000\n",
      "(p0) Popped: 0.642272  | 1.000000\n",
      "(p0) Popped: 0.643601  | 1.000000\n",
      "(p0) Popped: 0.671803  | 1.000000\n",
      "(p0) Popped: 0.674035  | 1.000000\n",
      "(p0) Popped: 0.682463  | 1.000000\n",
      "(p0) Popped: 0.701311  | 1.000000\n",
      "(p0) Popped: 0.731181  | 1.000000\n",
      "(p0) Popped: 0.745470  | 1.000000\n",
      "(p0) Popped: 0.790644  | 1.000000\n",
      "(p0) Popped: 0.791748  | 1.000000\n",
      "(p0) Popped: 0.813246  | 1.000000\n",
      "(p0) Popped: 0.820690  | 1.000000\n",
      "(p0) Popped: 0.856769  | 1.000000\n",
      "(p0) Popped: 0.857614  | 1.000000\n",
      "(p0) Popped: 0.872617  | 1.000000\n",
      "(p0) Popped: 0.877461  | 1.000000\n",
      "(p0) Popped: 0.954826  | 1.000000\n",
      "(p0) Popped: 0.955598  | 1.000000\n",
      "(p0) Popped: 0.960429  | 1.000000\n",
      "(p0) Popped: 0.961139  | 1.000000\n",
      "(p0) Popped: 0.964271  | 1.000000\n",
      "(p0) Popped: 0.964623  | 1.000000\n",
      "(p0) Popped: 0.965111  | 1.000000\n",
      "(p0) Popped: 0.965309  | 1.000000\n",
      "(p0) Popped: 0.965791  | 1.000000\n",
      "(p0) Popped: 0.967368  | 1.000000\n",
      "(p0) Popped: 0.968550  | 1.000000\n",
      "(p0) Popped: 0.969220  | 1.000000\n",
      "(p0) Popped: 0.969431  | 1.000000\n",
      "(p0) Popped: 0.969970  | 1.000000\n",
      "(p0) Popped: 0.970050  | 1.000000\n",
      "(p0) Popped: 0.970564  | 1.000000\n",
      "(p0) Popped: 0.971228  | 1.000000\n",
      "(p0) Popped: 0.974459  | 1.000000\n",
      "(p0) Popped: 0.975377  | 1.000000\n",
      "(p0) Popped: 0.975886  | 1.000000\n",
      "(p0) Popped: 0.978341  | 1.000000\n",
      "(p0) Popped: 0.978828  | 1.000000\n",
      "(p0) Popped: 0.979336  | 1.000000\n",
      "(p0) Popped: 0.980105  | 1.000000\n",
      "(p0) Popped: 0.980612  | 1.000000\n",
      "(p0) Popped: 0.982145  | 1.000000\n",
      "(p0) Popped: 0.982947  | 1.000000\n",
      "(p0) Popped: 0.983407  | 1.000000\n",
      "(p0) Popped: 0.989221  | 1.000000\n",
      "Warning for adding constraints: zero or small (< 1e-13) coefficients, ignored\n",
      "(p0) Popped: 0.989746  | 1.000000\n",
      "COUNTED 130 LINEAR REGIONS\n"
     ]
    }
   ],
   "source": [
    "# And we can also do things like count the number of linear regions in a ball (like the entire domain...)\n",
    "example_3 = valset[0][0][2]\n",
    "example_3_output = geo.run(example_3, lp_norm='l_inf', problem_type='count_regions', decision_radius=1.0)"
   ]
  },
  {
   "cell_type": "code",
   "execution_count": null,
   "metadata": {},
   "outputs": [],
   "source": [
    "print(example_3_output)"
   ]
  },
  {
   "cell_type": "code",
   "execution_count": null,
   "metadata": {},
   "outputs": [],
   "source": []
  }
 ],
 "metadata": {
  "kernelspec": {
   "display_name": "Python 3",
   "language": "python",
   "name": "python3"
  },
  "language_info": {
   "codemirror_mode": {
    "name": "ipython",
    "version": 3
   },
   "file_extension": ".py",
   "mimetype": "text/x-python",
   "name": "python",
   "nbconvert_exporter": "python",
   "pygments_lexer": "ipython3",
   "version": "3.6.8"
  }
 },
 "nbformat": 4,
 "nbformat_minor": 2
}
