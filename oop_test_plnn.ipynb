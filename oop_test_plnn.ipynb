{
 "cells": [
  {
   "cell_type": "code",
   "execution_count": 1,
   "metadata": {},
   "outputs": [
    {
     "name": "stderr",
     "output_type": "stream",
     "text": [
      "/Users/jordanm/.virtualenvs/myvenv/lib/python3.7/site-packages/matplotlib/figure.py:98: MatplotlibDeprecationWarning: \n",
      "Adding an axes using the same arguments as a previous axes currently reuses the earlier instance.  In a future version, a new instance will always be created and returned.  Meanwhile, this warning can be suppressed, and the future behavior ensured, by passing a unique label to each axes instance.\n",
      "  \"Adding an axes using the same arguments as a previous axes \"\n"
     ]
    }
   ],
   "source": [
    "# =====================\n",
    "# Imports\n",
    "# =====================\n",
    "%load_ext line_profiler\n",
    "import sys\n",
    "sys.path.append('mister_ed')\n",
    "\n",
    "from geocert import compute_boundary_batch, batch_GeoCert, incremental_GeoCert\n",
    "import geocert_oop as geo\n",
    "from plnn import PLNN\n",
    "import _polytope_ as _poly_\n",
    "from _polytope_ import Polytope, Face, from_polytope_dict\n",
    "import utilities as utils\n",
    "import os\n",
    "import matplotlib.pyplot as plt\n",
    "import numpy as np\n",
    "import torch\n",
    "import torch.nn as nn\n",
    "import torch.optim as optim\n",
    "from torch.autograd import Variable\n",
    "from torchvision import datasets, transforms\n",
    "# from convex_adversarial import robust_loss\n",
    "\n",
    "import adversarial_perturbations as ap \n",
    "import prebuilt_loss_functions as plf\n",
    "import loss_functions as lf \n",
    "import adversarial_attacks as aa\n",
    "import utils.pytorch_utils as me_utils\n"
   ]
  },
  {
   "cell_type": "code",
   "execution_count": 2,
   "metadata": {},
   "outputs": [],
   "source": [
    "import mister_ed.adversarial_attacks as aa"
   ]
  },
  {
   "cell_type": "code",
   "execution_count": 3,
   "metadata": {},
   "outputs": [
    {
     "name": "stdout",
     "output_type": "stream",
     "text": [
      "===============Generating Training Points============\n",
      "===============Points Generated============\n"
     ]
    }
   ],
   "source": [
    "# apply incremental geocert to a normal and l1-regularized classifier. Finds maximal l_p balls\n",
    "# for random points in R^2.\n",
    "\n",
    "# ==================================\n",
    "# Generate Training Points\n",
    "# ==================================\n",
    "\n",
    "print('===============Generating Training Points============')\n",
    "# random points at least 2r apart\n",
    "m = 12\n",
    "np.random.seed(3)\n",
    "x = [np.random.uniform(size=(2))]\n",
    "r = 0.16\n",
    "while(len(x) < m):\n",
    "    p = np.random.uniform(size=(2))\n",
    "    if min(np.abs(p-a).sum() for a in x) > 2*r:\n",
    "        x.append(p)\n",
    "# r = 0.145\n",
    "epsilon = r/2\n",
    "\n",
    "X = torch.Tensor(np.array(x))\n",
    "torch.manual_seed(1)\n",
    "y = (torch.rand(m)+0.5).long()\n",
    "\n",
    "print('===============Points Generated============')"
   ]
  },
  {
   "cell_type": "code",
   "execution_count": 4,
   "metadata": {
    "scrolled": true
   },
   "outputs": [
    {
     "name": "stdout",
     "output_type": "stream",
     "text": [
      "===============Initializing Network============\n",
      "Sequential(\n",
      "  (1): Linear(in_features=2, out_features=10, bias=True)\n",
      "  (2): ReLU()\n",
      "  (3): Linear(in_features=10, out_features=50, bias=True)\n",
      "  (4): ReLU()\n",
      "  (5): Linear(in_features=50, out_features=10, bias=True)\n",
      "  (6): ReLU()\n",
      "  (7): Linear(in_features=10, out_features=2, bias=True)\n",
      ")\n",
      "===============Training Network with Regularization============\n",
      "error:  tensor(0.)\n"
     ]
    },
    {
     "name": "stderr",
     "output_type": "stream",
     "text": [
      "/Users/jordanm/.virtualenvs/myvenv/lib/python3.7/site-packages/torch/tensor.py:263: UserWarning: non-inplace resize is deprecated\n",
      "  warnings.warn(\"non-inplace resize is deprecated\")\n"
     ]
    },
    {
     "data": {
      "image/png": "[encoded data removed]",
      "text/plain": [
       "<Figure size 576x576 with 1 Axes>"
      ]
     },
     "metadata": {
      "needs_background": "light"
     },
     "output_type": "display_data"
    }
   ],
   "source": [
    "# ==================================\n",
    "# Initialize Network\n",
    "# ==================================\n",
    "\n",
    "print('===============Initializing Network============')\n",
    "network = PLNN([2, 10, 50, 10, 2])\n",
    "net = network.net\n",
    "\n",
    "\n",
    "# ==================================\n",
    "# Train Network\n",
    "# ==================================\n",
    "\n",
    "def l1_loss(net):\n",
    "\n",
    "    return sum([_.norm(p=1) for _ in net.parameters() if _.dim() > 1])\n",
    "\n",
    "\n",
    "print('===============Training Network with Regularization============')\n",
    "opt = optim.Adam(net.parameters(), lr=1e-3)\n",
    "for i in range(1000):\n",
    "    out = net(Variable(X))\n",
    "    l = nn.CrossEntropyLoss()(out, Variable(y)).view([1])\n",
    "\n",
    "    l1_scale = torch.Tensor([1e-4])\n",
    "    l += l1_scale * l1_loss(net).view([1])\n",
    "\n",
    "    err = (out.max(1)[1].data != y).float().mean()\n",
    "    opt.zero_grad()\n",
    "    (l).backward()\n",
    "    opt.step()\n",
    "\n",
    "print('error: ', err)\n",
    "\n",
    "\n",
    "\n",
    "# ==================================\n",
    "# Visualize:  regularized classifier boundary\n",
    "# ==================================\n",
    "\n",
    "XX, YY = np.meshgrid(np.linspace(0, 1, 100), np.linspace(0, 1, 100))\n",
    "X0 = Variable(torch.Tensor(np.stack([np.ravel(XX), np.ravel(YY)]).T))\n",
    "y0 = network(X0)\n",
    "ZZ = (y0[:,0] - y0[:,1]).resize(100, 100).data.numpy()\n",
    "\n",
    "_, ax = plt.subplots(figsize=(8,8))\n",
    "ax.contourf(XX,YY,-ZZ, cmap=\"coolwarm\", levels=np.linspace(-1000,1000,3))\n",
    "ax.scatter(X.numpy()[:,0], X.numpy()[:,1], c=y.numpy(), cmap=\"coolwarm\", s=70)\n",
    "ax.axis(\"equal\")\n",
    "ax.axis([0, 1, 0, 1])\n",
    "\n",
    "plt.show()"
   ]
  },
  {
   "cell_type": "code",
   "execution_count": 12,
   "metadata": {},
   "outputs": [],
   "source": [
    "from importlib import reload\n",
    "reload(geo)\n",
    "reload(lf)\n",
    "save_dir = os.path.join(os.getcwd(), 'plots/oop_plnn_l2/')\n",
    "geocert = geo.IncrementalGeoCert(network, verbose=True, display=True, save_dir=save_dir, \n",
    "                                 ax=None)\n"
   ]
  },
  {
   "cell_type": "code",
   "execution_count": 13,
   "metadata": {
    "scrolled": false
   },
   "outputs": [
    {
     "name": "stdout",
     "output_type": "stream",
     "text": [
      "CWL2 found an upper bound of: 0.08497894555330276\n",
      "---Initial Polytope---\n",
      "Num facets:  2\n",
      "---Opening New Polytope---\n",
      "Num facets:  2\n",
      "---Opening New Polytope---\n",
      "Num facets:  2\n",
      "---Opening New Polytope---\n",
      "Num facets:  1\n",
      "---Opening New Polytope---\n",
      "Num facets:  1\n",
      "---Opening New Polytope---\n",
      "We've already seen that polytope\n",
      "----------Minimal Projection Generated----------\n"
     ]
    }
   ],
   "source": [
    "%lprun -f geocert.min_dist geocert.min_dist(torch.Tensor([0.9, 0.2]).view(-1, 1), compute_upper_bound=True)\n",
    "\n",
    "\n"
   ]
  },
  {
   "cell_type": "code",
   "execution_count": 14,
   "metadata": {},
   "outputs": [
    {
     "name": "stdout",
     "output_type": "stream",
     "text": [
      "---Initial Polytope---\n",
      "Num facets:  4\n",
      "---Opening New Polytope---\n",
      "Num facets:  3\n",
      "---Opening New Polytope---\n",
      "Num facets:  3\n",
      "---Opening New Polytope---\n",
      "Num facets:  4\n",
      "---Opening New Polytope---\n",
      "Num facets:  2\n",
      "---Opening New Polytope---\n",
      "We've already seen that polytope\n",
      "----------Minimal Projection Generated----------\n"
     ]
    }
   ],
   "source": [
    "%lprun -f geocert.min_dist geocert.min_dist(torch.Tensor([0.9, 0.2]).view(-1, 1), compute_upper_bound=False)\n"
   ]
  },
  {
   "cell_type": "code",
   "execution_count": null,
   "metadata": {},
   "outputs": [],
   "source": [
    "examples = torch.Tensor([0.9, 0.2]\n",
    "                        )\n",
    "examples = examples.view(1, -1)\n",
    "labels = network(examples).max(1)[1]\n",
    "\n",
    "print(examples, examples.shape)\n",
    "print(labels)\n"
   ]
  },
  {
   "cell_type": "code",
   "execution_count": null,
   "metadata": {},
   "outputs": [],
   "source": [
    "import adversarial_perturbations as ap \n",
    "import prebuilt_loss_functions as plf\n",
    "import loss_functions as lf \n",
    "import adversarial_attacks as aa\n",
    "import utils.pytorch_utils as me_utils\n",
    "from importlib import reload \n",
    "reload(aa)"
   ]
  },
  {
   "cell_type": "code",
   "execution_count": null,
   "metadata": {},
   "outputs": [],
   "source": [
    "delta_threat = ap.ThreatModel(ap.DeltaAddition, {'lp_style': 'inf', \n",
    "                                                 'lp_bound': 1.0})\n",
    "normalizer = me_utils.IdentityNormalize() \n",
    "distance_fxn = lf.L2Regularization\n",
    "carlini_loss = lf.CWLossF6\n",
    "cwl2_attack = aa.CarliniWagner(net, normalizer, delta_threat, distance_fxn, carlini_loss)\n",
    "\n",
    "attack_kwargs = {'warm_start': False, 'num_optim_steps': 2000, 'num_bin_search_steps': 5,\n",
    "                 'initial_lambda': 10, 'verbose': True}\n",
    "pert_out = cwl2_attack.attack(examples, labels, **attack_kwargs)\n",
    "#adv_examples\n"
   ]
  },
  {
   "cell_type": "code",
   "execution_count": null,
   "metadata": {},
   "outputs": [],
   "source": [
    "pert_out.adversarial_tensors()"
   ]
  },
  {
   "cell_type": "code",
   "execution_count": null,
   "metadata": {},
   "outputs": [],
   "source": [
    "x = np.array([0.9, 0.2])\n",
    "y = pert_out.adversarial_tensors()[1]\n",
    "\n",
    "(x- y).norm()"
   ]
  },
  {
   "cell_type": "code",
   "execution_count": null,
   "metadata": {},
   "outputs": [],
   "source": [
    "z = torch.Tensor([420])\n",
    "print(z)\n",
    "print(z.squeeze())"
   ]
  },
  {
   "cell_type": "code",
   "execution_count": null,
   "metadata": {},
   "outputs": [],
   "source": []
  }
 ],
 "metadata": {
  "kernelspec": {
   "display_name": "Python 3",
   "language": "python",
   "name": "python3"
  },
  "language_info": {
   "codemirror_mode": {
    "name": "ipython",
    "version": 3
   },
   "file_extension": ".py",
   "mimetype": "text/x-python",
   "name": "python",
   "nbconvert_exporter": "python",
   "pygments_lexer": "ipython3",
   "version": "3.7.2"
  }
 },
 "nbformat": 4,
 "nbformat_minor": 2
}
