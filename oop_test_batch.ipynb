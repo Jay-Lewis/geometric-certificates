{
 "cells": [
  {
   "cell_type": "code",
   "execution_count": 2,
   "metadata": {},
   "outputs": [
    {
     "name": "stderr",
     "output_type": "stream",
     "text": [
      "/Users/jordanm/.virtualenvs/myvenv/lib/python3.7/site-packages/matplotlib/figure.py:98: MatplotlibDeprecationWarning: \n",
      "Adding an axes using the same arguments as a previous axes currently reuses the earlier instance.  In a future version, a new instance will always be created and returned.  Meanwhile, this warning can be suppressed, and the future behavior ensured, by passing a unique label to each axes instance.\n",
      "  \"Adding an axes using the same arguments as a previous axes \"\n"
     ]
    }
   ],
   "source": [
    "# =====================\n",
    "# Imports\n",
    "# =====================\n",
    "\n",
    "from geocert import compute_boundary_batch, batch_GeoCert, incremental_GeoCert\n",
    "import geocert_oop as geo\n",
    "from plnn import PLNN\n",
    "from _polytope_ import Polytope, Face, from_polytope_dict\n",
    "import utilities as utils\n",
    "import os\n",
    "import matplotlib.pyplot as plt\n",
    "import numpy as np\n",
    "import torch\n",
    "import torch.nn as nn\n",
    "import torch.optim as optim\n",
    "from torch.autograd import Variable\n",
    "from torchvision import datasets, transforms\n",
    "# from convex_adversarial import robust_loss\n"
   ]
  },
  {
   "cell_type": "code",
   "execution_count": 3,
   "metadata": {},
   "outputs": [],
   "source": [
    "\"\"\"\n",
    "This file is just a simple sanity check of the 2d \n",
    "Test batchwise version of geocert in 2d \n",
    "Try this shape:\n",
    " _\n",
    "|_|_\n",
    "|_|_|\n",
    "\n",
    "\"\"\"\n",
    "A_1 = np.array([[1,  0], \n",
    "                [-1, 0], \n",
    "                [0,  1], \n",
    "                [0, -1]])\n",
    "b_1 = np.array([1, 0, 1, 0])\n",
    "\n",
    "\n",
    "A_2 = np.array([[1,  0], \n",
    "                [-1, 0], \n",
    "                [0,  1], \n",
    "                [0, -1]]) \n",
    "b_2 = np.array([1, 0, 2, -1])\n",
    "\n",
    "\n",
    "A_3 = np.array([[1,  0], \n",
    "                [-1, 0], \n",
    "                [0,  1], \n",
    "                [0, -1]]) \n",
    "b_3 = np.array([2, -1, 1, 0])\n",
    "\n",
    "\n",
    "p_list = []\n",
    "for A, b in [(A_1, b_1), (A_2, b_2), (A_3, b_3)]:\n",
    "    p_list.append(Polytope(A.astype(float), b.astype(float)))\n",
    "\n",
    "    \n"
   ]
  },
  {
   "cell_type": "code",
   "execution_count": 4,
   "metadata": {},
   "outputs": [
    {
     "name": "stdout",
     "output_type": "stream",
     "text": [
      "----------Computing Boundary----------\n",
      "num total facets: 12\n",
      "----------Computing Boundary----------\n",
      "num total facets: 12\n"
     ]
    }
   ],
   "source": [
    "# Simple check: (0.2, 0.2) both l2/linf should return dist of 0.2\n",
    "batch_check = geo.BatchGeocert(p_list)\n",
    "x_1 = np.array((0.2, 0.2))\n",
    "\n",
    "l2_dist_1 = batch_check.min_dist(x_1, 'l_2')\n",
    "linf_dist_1 = batch_check.min_dist(x_1, 'l_inf')\n",
    "\n",
    "assert abs(l2_dist_1[0] - 0.2) < 1e-6\n",
    "assert abs(linf_dist_1[0] - 0.2) < 1e-6"
   ]
  },
  {
   "cell_type": "code",
   "execution_count": 5,
   "metadata": {},
   "outputs": [
    {
     "name": "stdout",
     "output_type": "stream",
     "text": [
      "----------Computing Boundary----------\n",
      "num total facets: 12\n",
      "----------Computing Boundary----------\n",
      "num total facets: 12\n"
     ]
    }
   ],
   "source": [
    "# Check 2: (0.8, 0.8) should return 0.2 for linf, sqrt(0.08) for l2 \n",
    "x_2 = np.array((0.8, 0.8))\n",
    "l2_dist_2 = batch_check.min_dist(x_2, 'l_2')\n",
    "linf_dist_2 = batch_check.min_dist(x_2, 'l_inf')\n",
    "\n",
    "assert abs(l2_dist_2[0] - 0.08**0.5) < 1e-6\n",
    "assert abs(linf_dist_2[0] - 0.2) < 1e-6"
   ]
  }
 ],
 "metadata": {
  "kernelspec": {
   "display_name": "Python 3",
   "language": "python",
   "name": "python3"
  },
  "language_info": {
   "codemirror_mode": {
    "name": "ipython",
    "version": 3
   },
   "file_extension": ".py",
   "mimetype": "text/x-python",
   "name": "python",
   "nbconvert_exporter": "python",
   "pygments_lexer": "ipython3",
   "version": "3.7.2"
  }
 },
 "nbformat": 4,
 "nbformat_minor": 2
}
